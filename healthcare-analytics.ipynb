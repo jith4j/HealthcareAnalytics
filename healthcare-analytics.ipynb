{
 "cells": [
  {
   "cell_type": "markdown",
   "id": "1be0494f",
   "metadata": {
    "papermill": {
     "duration": 0.016789,
     "end_time": "2022-05-29T15:26:07.613667",
     "exception": false,
     "start_time": "2022-05-29T15:26:07.596878",
     "status": "completed"
    },
    "tags": []
   },
   "source": [
    "# Healthcare Analytics \n",
    "## Predicting length of stay for patients"
   ]
  },
  {
   "cell_type": "markdown",
   "id": "9ae157b3",
   "metadata": {
    "papermill": {
     "duration": 0.015566,
     "end_time": "2022-05-29T15:26:07.645259",
     "exception": false,
     "start_time": "2022-05-29T15:26:07.629693",
     "status": "completed"
    },
    "tags": []
   },
   "source": [
    "### Importing neccessary modules"
   ]
  },
  {
   "cell_type": "code",
   "execution_count": 1,
   "id": "bc2ab552",
   "metadata": {
    "execution": {
     "iopub.execute_input": "2022-05-29T15:26:07.678833Z",
     "iopub.status.busy": "2022-05-29T15:26:07.678346Z",
     "iopub.status.idle": "2022-05-29T15:26:14.261219Z",
     "shell.execute_reply": "2022-05-29T15:26:14.260327Z"
    },
    "papermill": {
     "duration": 6.602678,
     "end_time": "2022-05-29T15:26:14.263748",
     "exception": false,
     "start_time": "2022-05-29T15:26:07.661070",
     "status": "completed"
    },
    "tags": []
   },
   "outputs": [],
   "source": [
    "import numpy as np\n",
    "import pandas as pd\n",
    "import matplotlib.pyplot as plt\n",
    "\n",
    "from sklearn.preprocessing import StandardScaler\n",
    "from sklearn.model_selection import train_test_split\n",
    "\n",
    "from sklearn.linear_model import LogisticRegression\n",
    "import tensorflow as tf"
   ]
  },
  {
   "cell_type": "markdown",
   "id": "e3a3bb01",
   "metadata": {
    "papermill": {
     "duration": 0.016271,
     "end_time": "2022-05-29T15:26:14.296800",
     "exception": false,
     "start_time": "2022-05-29T15:26:14.280529",
     "status": "completed"
    },
    "tags": []
   },
   "source": [
    "### The Dataset"
   ]
  },
  {
   "cell_type": "code",
   "execution_count": 2,
   "id": "9bcfb81d",
   "metadata": {
    "execution": {
     "iopub.execute_input": "2022-05-29T15:26:14.331670Z",
     "iopub.status.busy": "2022-05-29T15:26:14.330798Z",
     "iopub.status.idle": "2022-05-29T15:26:15.093371Z",
     "shell.execute_reply": "2022-05-29T15:26:15.092587Z"
    },
    "papermill": {
     "duration": 0.782975,
     "end_time": "2022-05-29T15:26:15.095988",
     "exception": false,
     "start_time": "2022-05-29T15:26:14.313013",
     "status": "completed"
    },
    "tags": []
   },
   "outputs": [],
   "source": [
    "data = pd.read_csv(\"../input/av-janatahack-healthcare-hackathon-ii/Data/train.csv\")\n",
    "train_data_dict = pd.read_csv(\"../input/av-janatahack-healthcare-hackathon-ii/Data/train_data_dict.csv\")"
   ]
  },
  {
   "cell_type": "code",
   "execution_count": 3,
   "id": "04fec1af",
   "metadata": {
    "execution": {
     "iopub.execute_input": "2022-05-29T15:26:15.132873Z",
     "iopub.status.busy": "2022-05-29T15:26:15.131717Z",
     "iopub.status.idle": "2022-05-29T15:26:15.169729Z",
     "shell.execute_reply": "2022-05-29T15:26:15.168617Z"
    },
    "papermill": {
     "duration": 0.058755,
     "end_time": "2022-05-29T15:26:15.172509",
     "exception": false,
     "start_time": "2022-05-29T15:26:15.113754",
     "status": "completed"
    },
    "tags": []
   },
   "outputs": [
    {
     "data": {
      "text/html": [
       "<div>\n",
       "<style scoped>\n",
       "    .dataframe tbody tr th:only-of-type {\n",
       "        vertical-align: middle;\n",
       "    }\n",
       "\n",
       "    .dataframe tbody tr th {\n",
       "        vertical-align: top;\n",
       "    }\n",
       "\n",
       "    .dataframe thead th {\n",
       "        text-align: right;\n",
       "    }\n",
       "</style>\n",
       "<table border=\"1\" class=\"dataframe\">\n",
       "  <thead>\n",
       "    <tr style=\"text-align: right;\">\n",
       "      <th></th>\n",
       "      <th>case_id</th>\n",
       "      <th>Hospital_code</th>\n",
       "      <th>Hospital_type_code</th>\n",
       "      <th>City_Code_Hospital</th>\n",
       "      <th>Hospital_region_code</th>\n",
       "      <th>Available Extra Rooms in Hospital</th>\n",
       "      <th>Department</th>\n",
       "      <th>Ward_Type</th>\n",
       "      <th>Ward_Facility_Code</th>\n",
       "      <th>Bed Grade</th>\n",
       "      <th>patientid</th>\n",
       "      <th>City_Code_Patient</th>\n",
       "      <th>Type of Admission</th>\n",
       "      <th>Severity of Illness</th>\n",
       "      <th>Visitors with Patient</th>\n",
       "      <th>Age</th>\n",
       "      <th>Admission_Deposit</th>\n",
       "      <th>Stay</th>\n",
       "    </tr>\n",
       "  </thead>\n",
       "  <tbody>\n",
       "    <tr>\n",
       "      <th>0</th>\n",
       "      <td>1</td>\n",
       "      <td>8</td>\n",
       "      <td>c</td>\n",
       "      <td>3</td>\n",
       "      <td>Z</td>\n",
       "      <td>3</td>\n",
       "      <td>radiotherapy</td>\n",
       "      <td>R</td>\n",
       "      <td>F</td>\n",
       "      <td>2.0</td>\n",
       "      <td>31397</td>\n",
       "      <td>7.0</td>\n",
       "      <td>Emergency</td>\n",
       "      <td>Extreme</td>\n",
       "      <td>2</td>\n",
       "      <td>51-60</td>\n",
       "      <td>4911.0</td>\n",
       "      <td>0-10</td>\n",
       "    </tr>\n",
       "    <tr>\n",
       "      <th>1</th>\n",
       "      <td>2</td>\n",
       "      <td>2</td>\n",
       "      <td>c</td>\n",
       "      <td>5</td>\n",
       "      <td>Z</td>\n",
       "      <td>2</td>\n",
       "      <td>radiotherapy</td>\n",
       "      <td>S</td>\n",
       "      <td>F</td>\n",
       "      <td>2.0</td>\n",
       "      <td>31397</td>\n",
       "      <td>7.0</td>\n",
       "      <td>Trauma</td>\n",
       "      <td>Extreme</td>\n",
       "      <td>2</td>\n",
       "      <td>51-60</td>\n",
       "      <td>5954.0</td>\n",
       "      <td>41-50</td>\n",
       "    </tr>\n",
       "    <tr>\n",
       "      <th>2</th>\n",
       "      <td>3</td>\n",
       "      <td>10</td>\n",
       "      <td>e</td>\n",
       "      <td>1</td>\n",
       "      <td>X</td>\n",
       "      <td>2</td>\n",
       "      <td>anesthesia</td>\n",
       "      <td>S</td>\n",
       "      <td>E</td>\n",
       "      <td>2.0</td>\n",
       "      <td>31397</td>\n",
       "      <td>7.0</td>\n",
       "      <td>Trauma</td>\n",
       "      <td>Extreme</td>\n",
       "      <td>2</td>\n",
       "      <td>51-60</td>\n",
       "      <td>4745.0</td>\n",
       "      <td>31-40</td>\n",
       "    </tr>\n",
       "    <tr>\n",
       "      <th>3</th>\n",
       "      <td>4</td>\n",
       "      <td>26</td>\n",
       "      <td>b</td>\n",
       "      <td>2</td>\n",
       "      <td>Y</td>\n",
       "      <td>2</td>\n",
       "      <td>radiotherapy</td>\n",
       "      <td>R</td>\n",
       "      <td>D</td>\n",
       "      <td>2.0</td>\n",
       "      <td>31397</td>\n",
       "      <td>7.0</td>\n",
       "      <td>Trauma</td>\n",
       "      <td>Extreme</td>\n",
       "      <td>2</td>\n",
       "      <td>51-60</td>\n",
       "      <td>7272.0</td>\n",
       "      <td>41-50</td>\n",
       "    </tr>\n",
       "    <tr>\n",
       "      <th>4</th>\n",
       "      <td>5</td>\n",
       "      <td>26</td>\n",
       "      <td>b</td>\n",
       "      <td>2</td>\n",
       "      <td>Y</td>\n",
       "      <td>2</td>\n",
       "      <td>radiotherapy</td>\n",
       "      <td>S</td>\n",
       "      <td>D</td>\n",
       "      <td>2.0</td>\n",
       "      <td>31397</td>\n",
       "      <td>7.0</td>\n",
       "      <td>Trauma</td>\n",
       "      <td>Extreme</td>\n",
       "      <td>2</td>\n",
       "      <td>51-60</td>\n",
       "      <td>5558.0</td>\n",
       "      <td>41-50</td>\n",
       "    </tr>\n",
       "    <tr>\n",
       "      <th>5</th>\n",
       "      <td>6</td>\n",
       "      <td>23</td>\n",
       "      <td>a</td>\n",
       "      <td>6</td>\n",
       "      <td>X</td>\n",
       "      <td>2</td>\n",
       "      <td>anesthesia</td>\n",
       "      <td>S</td>\n",
       "      <td>F</td>\n",
       "      <td>2.0</td>\n",
       "      <td>31397</td>\n",
       "      <td>7.0</td>\n",
       "      <td>Trauma</td>\n",
       "      <td>Extreme</td>\n",
       "      <td>2</td>\n",
       "      <td>51-60</td>\n",
       "      <td>4449.0</td>\n",
       "      <td>11-20</td>\n",
       "    </tr>\n",
       "    <tr>\n",
       "      <th>6</th>\n",
       "      <td>7</td>\n",
       "      <td>32</td>\n",
       "      <td>f</td>\n",
       "      <td>9</td>\n",
       "      <td>Y</td>\n",
       "      <td>1</td>\n",
       "      <td>radiotherapy</td>\n",
       "      <td>S</td>\n",
       "      <td>B</td>\n",
       "      <td>3.0</td>\n",
       "      <td>31397</td>\n",
       "      <td>7.0</td>\n",
       "      <td>Emergency</td>\n",
       "      <td>Extreme</td>\n",
       "      <td>2</td>\n",
       "      <td>51-60</td>\n",
       "      <td>6167.0</td>\n",
       "      <td>0-10</td>\n",
       "    </tr>\n",
       "    <tr>\n",
       "      <th>7</th>\n",
       "      <td>8</td>\n",
       "      <td>23</td>\n",
       "      <td>a</td>\n",
       "      <td>6</td>\n",
       "      <td>X</td>\n",
       "      <td>4</td>\n",
       "      <td>radiotherapy</td>\n",
       "      <td>Q</td>\n",
       "      <td>F</td>\n",
       "      <td>3.0</td>\n",
       "      <td>31397</td>\n",
       "      <td>7.0</td>\n",
       "      <td>Trauma</td>\n",
       "      <td>Extreme</td>\n",
       "      <td>2</td>\n",
       "      <td>51-60</td>\n",
       "      <td>5571.0</td>\n",
       "      <td>41-50</td>\n",
       "    </tr>\n",
       "    <tr>\n",
       "      <th>8</th>\n",
       "      <td>9</td>\n",
       "      <td>1</td>\n",
       "      <td>d</td>\n",
       "      <td>10</td>\n",
       "      <td>Y</td>\n",
       "      <td>2</td>\n",
       "      <td>gynecology</td>\n",
       "      <td>R</td>\n",
       "      <td>B</td>\n",
       "      <td>4.0</td>\n",
       "      <td>31397</td>\n",
       "      <td>7.0</td>\n",
       "      <td>Trauma</td>\n",
       "      <td>Extreme</td>\n",
       "      <td>2</td>\n",
       "      <td>51-60</td>\n",
       "      <td>7223.0</td>\n",
       "      <td>51-60</td>\n",
       "    </tr>\n",
       "    <tr>\n",
       "      <th>9</th>\n",
       "      <td>10</td>\n",
       "      <td>10</td>\n",
       "      <td>e</td>\n",
       "      <td>1</td>\n",
       "      <td>X</td>\n",
       "      <td>2</td>\n",
       "      <td>gynecology</td>\n",
       "      <td>S</td>\n",
       "      <td>E</td>\n",
       "      <td>3.0</td>\n",
       "      <td>31397</td>\n",
       "      <td>7.0</td>\n",
       "      <td>Trauma</td>\n",
       "      <td>Extreme</td>\n",
       "      <td>2</td>\n",
       "      <td>51-60</td>\n",
       "      <td>6056.0</td>\n",
       "      <td>31-40</td>\n",
       "    </tr>\n",
       "  </tbody>\n",
       "</table>\n",
       "</div>"
      ],
      "text/plain": [
       "   case_id  Hospital_code Hospital_type_code  City_Code_Hospital  \\\n",
       "0        1              8                  c                   3   \n",
       "1        2              2                  c                   5   \n",
       "2        3             10                  e                   1   \n",
       "3        4             26                  b                   2   \n",
       "4        5             26                  b                   2   \n",
       "5        6             23                  a                   6   \n",
       "6        7             32                  f                   9   \n",
       "7        8             23                  a                   6   \n",
       "8        9              1                  d                  10   \n",
       "9       10             10                  e                   1   \n",
       "\n",
       "  Hospital_region_code  Available Extra Rooms in Hospital    Department  \\\n",
       "0                    Z                                  3  radiotherapy   \n",
       "1                    Z                                  2  radiotherapy   \n",
       "2                    X                                  2    anesthesia   \n",
       "3                    Y                                  2  radiotherapy   \n",
       "4                    Y                                  2  radiotherapy   \n",
       "5                    X                                  2    anesthesia   \n",
       "6                    Y                                  1  radiotherapy   \n",
       "7                    X                                  4  radiotherapy   \n",
       "8                    Y                                  2    gynecology   \n",
       "9                    X                                  2    gynecology   \n",
       "\n",
       "  Ward_Type Ward_Facility_Code  Bed Grade  patientid  City_Code_Patient  \\\n",
       "0         R                  F        2.0      31397                7.0   \n",
       "1         S                  F        2.0      31397                7.0   \n",
       "2         S                  E        2.0      31397                7.0   \n",
       "3         R                  D        2.0      31397                7.0   \n",
       "4         S                  D        2.0      31397                7.0   \n",
       "5         S                  F        2.0      31397                7.0   \n",
       "6         S                  B        3.0      31397                7.0   \n",
       "7         Q                  F        3.0      31397                7.0   \n",
       "8         R                  B        4.0      31397                7.0   \n",
       "9         S                  E        3.0      31397                7.0   \n",
       "\n",
       "  Type of Admission Severity of Illness  Visitors with Patient    Age  \\\n",
       "0         Emergency             Extreme                      2  51-60   \n",
       "1            Trauma             Extreme                      2  51-60   \n",
       "2            Trauma             Extreme                      2  51-60   \n",
       "3            Trauma             Extreme                      2  51-60   \n",
       "4            Trauma             Extreme                      2  51-60   \n",
       "5            Trauma             Extreme                      2  51-60   \n",
       "6         Emergency             Extreme                      2  51-60   \n",
       "7            Trauma             Extreme                      2  51-60   \n",
       "8            Trauma             Extreme                      2  51-60   \n",
       "9            Trauma             Extreme                      2  51-60   \n",
       "\n",
       "   Admission_Deposit   Stay  \n",
       "0             4911.0   0-10  \n",
       "1             5954.0  41-50  \n",
       "2             4745.0  31-40  \n",
       "3             7272.0  41-50  \n",
       "4             5558.0  41-50  \n",
       "5             4449.0  11-20  \n",
       "6             6167.0   0-10  \n",
       "7             5571.0  41-50  \n",
       "8             7223.0  51-60  \n",
       "9             6056.0  31-40  "
      ]
     },
     "execution_count": 3,
     "metadata": {},
     "output_type": "execute_result"
    }
   ],
   "source": [
    "data.head(10)"
   ]
  },
  {
   "cell_type": "code",
   "execution_count": 4,
   "id": "134e04f3",
   "metadata": {
    "execution": {
     "iopub.execute_input": "2022-05-29T15:26:15.195128Z",
     "iopub.status.busy": "2022-05-29T15:26:15.194353Z",
     "iopub.status.idle": "2022-05-29T15:26:15.204918Z",
     "shell.execute_reply": "2022-05-29T15:26:15.203813Z"
    },
    "papermill": {
     "duration": 0.024163,
     "end_time": "2022-05-29T15:26:15.207040",
     "exception": false,
     "start_time": "2022-05-29T15:26:15.182877",
     "status": "completed"
    },
    "tags": []
   },
   "outputs": [],
   "source": [
    "data.set_index('case_id', inplace=True)"
   ]
  },
  {
   "cell_type": "code",
   "execution_count": 5,
   "id": "ddd1ab59",
   "metadata": {
    "execution": {
     "iopub.execute_input": "2022-05-29T15:26:15.229951Z",
     "iopub.status.busy": "2022-05-29T15:26:15.229395Z",
     "iopub.status.idle": "2022-05-29T15:26:15.242699Z",
     "shell.execute_reply": "2022-05-29T15:26:15.241559Z"
    },
    "papermill": {
     "duration": 0.027305,
     "end_time": "2022-05-29T15:26:15.244623",
     "exception": false,
     "start_time": "2022-05-29T15:26:15.217318",
     "status": "completed"
    },
    "tags": []
   },
   "outputs": [
    {
     "data": {
      "text/html": [
       "<div>\n",
       "<style scoped>\n",
       "    .dataframe tbody tr th:only-of-type {\n",
       "        vertical-align: middle;\n",
       "    }\n",
       "\n",
       "    .dataframe tbody tr th {\n",
       "        vertical-align: top;\n",
       "    }\n",
       "\n",
       "    .dataframe thead th {\n",
       "        text-align: right;\n",
       "    }\n",
       "</style>\n",
       "<table border=\"1\" class=\"dataframe\">\n",
       "  <thead>\n",
       "    <tr style=\"text-align: right;\">\n",
       "      <th></th>\n",
       "      <th>Column</th>\n",
       "      <th>Description</th>\n",
       "    </tr>\n",
       "  </thead>\n",
       "  <tbody>\n",
       "    <tr>\n",
       "      <th>0</th>\n",
       "      <td>case_id</td>\n",
       "      <td>Case_ID registered in Hospital</td>\n",
       "    </tr>\n",
       "    <tr>\n",
       "      <th>1</th>\n",
       "      <td>Hospital_code</td>\n",
       "      <td>Unique code for the Hospital</td>\n",
       "    </tr>\n",
       "    <tr>\n",
       "      <th>2</th>\n",
       "      <td>Hospital_type_code</td>\n",
       "      <td>Unique code for the type of Hospital</td>\n",
       "    </tr>\n",
       "    <tr>\n",
       "      <th>3</th>\n",
       "      <td>City_Code_Hospital</td>\n",
       "      <td>City Code of the Hospital</td>\n",
       "    </tr>\n",
       "    <tr>\n",
       "      <th>4</th>\n",
       "      <td>Hospital_region_code</td>\n",
       "      <td>Region Code of the Hospital</td>\n",
       "    </tr>\n",
       "    <tr>\n",
       "      <th>5</th>\n",
       "      <td>Available Extra Rooms in Hospital</td>\n",
       "      <td>Number of Extra rooms available in the Hospital</td>\n",
       "    </tr>\n",
       "    <tr>\n",
       "      <th>6</th>\n",
       "      <td>Department</td>\n",
       "      <td>Department overlooking the case</td>\n",
       "    </tr>\n",
       "    <tr>\n",
       "      <th>7</th>\n",
       "      <td>Ward_Type</td>\n",
       "      <td>Code for the Ward type</td>\n",
       "    </tr>\n",
       "    <tr>\n",
       "      <th>8</th>\n",
       "      <td>Ward_Facility_Code</td>\n",
       "      <td>Code for the Ward Facility</td>\n",
       "    </tr>\n",
       "    <tr>\n",
       "      <th>9</th>\n",
       "      <td>Bed Grade</td>\n",
       "      <td>Condition of Bed in the Ward</td>\n",
       "    </tr>\n",
       "    <tr>\n",
       "      <th>10</th>\n",
       "      <td>patientid</td>\n",
       "      <td>Unique Patient Id</td>\n",
       "    </tr>\n",
       "    <tr>\n",
       "      <th>11</th>\n",
       "      <td>City_Code_Patient</td>\n",
       "      <td>City Code for the patient</td>\n",
       "    </tr>\n",
       "    <tr>\n",
       "      <th>12</th>\n",
       "      <td>Type of Admission</td>\n",
       "      <td>Admission Type registered by the Hospital</td>\n",
       "    </tr>\n",
       "    <tr>\n",
       "      <th>13</th>\n",
       "      <td>Severity of Illness</td>\n",
       "      <td>Severity of the illness recorded at the time o...</td>\n",
       "    </tr>\n",
       "    <tr>\n",
       "      <th>14</th>\n",
       "      <td>Visitors with Patient</td>\n",
       "      <td>Number of Visitors with the patient</td>\n",
       "    </tr>\n",
       "    <tr>\n",
       "      <th>15</th>\n",
       "      <td>Age</td>\n",
       "      <td>Age of the patient</td>\n",
       "    </tr>\n",
       "    <tr>\n",
       "      <th>16</th>\n",
       "      <td>Admission_Deposit</td>\n",
       "      <td>Deposit at the Admission Time</td>\n",
       "    </tr>\n",
       "    <tr>\n",
       "      <th>17</th>\n",
       "      <td>Stay</td>\n",
       "      <td>Stay Days by the patient</td>\n",
       "    </tr>\n",
       "  </tbody>\n",
       "</table>\n",
       "</div>"
      ],
      "text/plain": [
       "                               Column  \\\n",
       "0                             case_id   \n",
       "1                       Hospital_code   \n",
       "2                  Hospital_type_code   \n",
       "3                  City_Code_Hospital   \n",
       "4                Hospital_region_code   \n",
       "5   Available Extra Rooms in Hospital   \n",
       "6                          Department   \n",
       "7                           Ward_Type   \n",
       "8                  Ward_Facility_Code   \n",
       "9                           Bed Grade   \n",
       "10                          patientid   \n",
       "11                  City_Code_Patient   \n",
       "12                  Type of Admission   \n",
       "13                Severity of Illness   \n",
       "14              Visitors with Patient   \n",
       "15                                Age   \n",
       "16                  Admission_Deposit   \n",
       "17                               Stay   \n",
       "\n",
       "                                          Description  \n",
       "0                      Case_ID registered in Hospital  \n",
       "1                        Unique code for the Hospital  \n",
       "2                Unique code for the type of Hospital  \n",
       "3                           City Code of the Hospital  \n",
       "4                         Region Code of the Hospital  \n",
       "5     Number of Extra rooms available in the Hospital  \n",
       "6                     Department overlooking the case  \n",
       "7                              Code for the Ward type  \n",
       "8                          Code for the Ward Facility  \n",
       "9                        Condition of Bed in the Ward  \n",
       "10                                  Unique Patient Id  \n",
       "11                          City Code for the patient  \n",
       "12          Admission Type registered by the Hospital  \n",
       "13  Severity of the illness recorded at the time o...  \n",
       "14                Number of Visitors with the patient  \n",
       "15                                 Age of the patient  \n",
       "16                      Deposit at the Admission Time  \n",
       "17                           Stay Days by the patient  "
      ]
     },
     "execution_count": 5,
     "metadata": {},
     "output_type": "execute_result"
    }
   ],
   "source": [
    "#description of each column\n",
    "train_data_dict"
   ]
  },
  {
   "cell_type": "code",
   "execution_count": 6,
   "id": "95638913",
   "metadata": {
    "execution": {
     "iopub.execute_input": "2022-05-29T15:26:15.267743Z",
     "iopub.status.busy": "2022-05-29T15:26:15.267312Z",
     "iopub.status.idle": "2022-05-29T15:26:15.566161Z",
     "shell.execute_reply": "2022-05-29T15:26:15.564329Z"
    },
    "papermill": {
     "duration": 0.313595,
     "end_time": "2022-05-29T15:26:15.568926",
     "exception": false,
     "start_time": "2022-05-29T15:26:15.255331",
     "status": "completed"
    },
    "tags": []
   },
   "outputs": [
    {
     "name": "stdout",
     "output_type": "stream",
     "text": [
      "<class 'pandas.core.frame.DataFrame'>\n",
      "Int64Index: 318438 entries, 1 to 318438\n",
      "Data columns (total 17 columns):\n",
      " #   Column                             Non-Null Count   Dtype  \n",
      "---  ------                             --------------   -----  \n",
      " 0   Hospital_code                      318438 non-null  int64  \n",
      " 1   Hospital_type_code                 318438 non-null  object \n",
      " 2   City_Code_Hospital                 318438 non-null  int64  \n",
      " 3   Hospital_region_code               318438 non-null  object \n",
      " 4   Available Extra Rooms in Hospital  318438 non-null  int64  \n",
      " 5   Department                         318438 non-null  object \n",
      " 6   Ward_Type                          318438 non-null  object \n",
      " 7   Ward_Facility_Code                 318438 non-null  object \n",
      " 8   Bed Grade                          318325 non-null  float64\n",
      " 9   patientid                          318438 non-null  int64  \n",
      " 10  City_Code_Patient                  313906 non-null  float64\n",
      " 11  Type of Admission                  318438 non-null  object \n",
      " 12  Severity of Illness                318438 non-null  object \n",
      " 13  Visitors with Patient              318438 non-null  int64  \n",
      " 14  Age                                318438 non-null  object \n",
      " 15  Admission_Deposit                  318438 non-null  float64\n",
      " 16  Stay                               318438 non-null  object \n",
      "dtypes: float64(3), int64(5), object(9)\n",
      "memory usage: 43.7+ MB\n"
     ]
    }
   ],
   "source": [
    "data.info()"
   ]
  },
  {
   "cell_type": "markdown",
   "id": "11964e76",
   "metadata": {
    "papermill": {
     "duration": 0.017133,
     "end_time": "2022-05-29T15:26:15.603906",
     "exception": false,
     "start_time": "2022-05-29T15:26:15.586773",
     "status": "completed"
    },
    "tags": []
   },
   "source": [
    "### Preprocessing"
   ]
  },
  {
   "cell_type": "markdown",
   "id": "49517dba",
   "metadata": {
    "papermill": {
     "duration": 0.01731,
     "end_time": "2022-05-29T15:26:15.638563",
     "exception": false,
     "start_time": "2022-05-29T15:26:15.621253",
     "status": "completed"
    },
    "tags": []
   },
   "source": [
    "#### checking if there are any duplicate values"
   ]
  },
  {
   "cell_type": "code",
   "execution_count": 7,
   "id": "71c93ce8",
   "metadata": {
    "execution": {
     "iopub.execute_input": "2022-05-29T15:26:15.674002Z",
     "iopub.status.busy": "2022-05-29T15:26:15.673566Z",
     "iopub.status.idle": "2022-05-29T15:26:15.678370Z",
     "shell.execute_reply": "2022-05-29T15:26:15.677370Z"
    },
    "papermill": {
     "duration": 0.025227,
     "end_time": "2022-05-29T15:26:15.680696",
     "exception": false,
     "start_time": "2022-05-29T15:26:15.655469",
     "status": "completed"
    },
    "tags": []
   },
   "outputs": [],
   "source": [
    "# i = 0\n",
    "# for item in train_df.duplicated():\n",
    "#     if item == True:\n",
    "#         print(item)\n",
    "#     else:\n",
    "#         i +=1\n",
    "# print(i)  # -> 0"
   ]
  },
  {
   "cell_type": "markdown",
   "id": "eabd085f",
   "metadata": {
    "papermill": {
     "duration": 0.016936,
     "end_time": "2022-05-29T15:26:15.715207",
     "exception": false,
     "start_time": "2022-05-29T15:26:15.698271",
     "status": "completed"
    },
    "tags": []
   },
   "source": [
    "#### checking for null values"
   ]
  },
  {
   "cell_type": "code",
   "execution_count": 8,
   "id": "f65c887d",
   "metadata": {
    "execution": {
     "iopub.execute_input": "2022-05-29T15:26:15.751177Z",
     "iopub.status.busy": "2022-05-29T15:26:15.750775Z",
     "iopub.status.idle": "2022-05-29T15:26:15.861912Z",
     "shell.execute_reply": "2022-05-29T15:26:15.860816Z"
    },
    "papermill": {
     "duration": 0.131986,
     "end_time": "2022-05-29T15:26:15.864435",
     "exception": false,
     "start_time": "2022-05-29T15:26:15.732449",
     "status": "completed"
    },
    "tags": []
   },
   "outputs": [
    {
     "data": {
      "text/plain": [
       "Hospital_code                           0\n",
       "Hospital_type_code                      0\n",
       "City_Code_Hospital                      0\n",
       "Hospital_region_code                    0\n",
       "Available Extra Rooms in Hospital       0\n",
       "Department                              0\n",
       "Ward_Type                               0\n",
       "Ward_Facility_Code                      0\n",
       "Bed Grade                             113\n",
       "patientid                               0\n",
       "City_Code_Patient                    4532\n",
       "Type of Admission                       0\n",
       "Severity of Illness                     0\n",
       "Visitors with Patient                   0\n",
       "Age                                     0\n",
       "Admission_Deposit                       0\n",
       "Stay                                    0\n",
       "dtype: int64"
      ]
     },
     "execution_count": 8,
     "metadata": {},
     "output_type": "execute_result"
    }
   ],
   "source": [
    "data.isnull().sum()"
   ]
  },
  {
   "cell_type": "markdown",
   "id": "4ebd69cc",
   "metadata": {
    "papermill": {
     "duration": 0.009947,
     "end_time": "2022-05-29T15:26:15.885010",
     "exception": false,
     "start_time": "2022-05-29T15:26:15.875063",
     "status": "completed"
    },
    "tags": []
   },
   "source": [
    "Removing the null values and populating it with mean value."
   ]
  },
  {
   "cell_type": "code",
   "execution_count": 9,
   "id": "92a141d3",
   "metadata": {
    "execution": {
     "iopub.execute_input": "2022-05-29T15:26:15.908080Z",
     "iopub.status.busy": "2022-05-29T15:26:15.906850Z",
     "iopub.status.idle": "2022-05-29T15:26:15.918358Z",
     "shell.execute_reply": "2022-05-29T15:26:15.917273Z"
    },
    "papermill": {
     "duration": 0.025326,
     "end_time": "2022-05-29T15:26:15.920479",
     "exception": false,
     "start_time": "2022-05-29T15:26:15.895153",
     "status": "completed"
    },
    "tags": []
   },
   "outputs": [],
   "source": [
    "def impute_missing_values(data, columns):\n",
    "    for column in columns:\n",
    "        data[column] = data[column].fillna(data[column].mean())\n",
    "\n",
    "impute_values = ['Bed Grade', 'City_Code_Patient']  # these columns has empty values\n",
    "impute_missing_values(data, impute_values)"
   ]
  },
  {
   "cell_type": "markdown",
   "id": "afa6f1e2",
   "metadata": {
    "papermill": {
     "duration": 0.010229,
     "end_time": "2022-05-29T15:26:15.941504",
     "exception": false,
     "start_time": "2022-05-29T15:26:15.931275",
     "status": "completed"
    },
    "tags": []
   },
   "source": [
    "### Encoding"
   ]
  },
  {
   "cell_type": "code",
   "execution_count": 10,
   "id": "263aa18e",
   "metadata": {
    "execution": {
     "iopub.execute_input": "2022-05-29T15:26:15.968457Z",
     "iopub.status.busy": "2022-05-29T15:26:15.967620Z",
     "iopub.status.idle": "2022-05-29T15:26:15.975439Z",
     "shell.execute_reply": "2022-05-29T15:26:15.974806Z"
    },
    "papermill": {
     "duration": 0.025188,
     "end_time": "2022-05-29T15:26:15.977407",
     "exception": false,
     "start_time": "2022-05-29T15:26:15.952219",
     "status": "completed"
    },
    "tags": []
   },
   "outputs": [
    {
     "data": {
      "text/plain": [
       "Hospital_code                          int64\n",
       "Hospital_type_code                    object\n",
       "City_Code_Hospital                     int64\n",
       "Hospital_region_code                  object\n",
       "Available Extra Rooms in Hospital      int64\n",
       "Department                            object\n",
       "Ward_Type                             object\n",
       "Ward_Facility_Code                    object\n",
       "Bed Grade                            float64\n",
       "patientid                              int64\n",
       "City_Code_Patient                    float64\n",
       "Type of Admission                     object\n",
       "Severity of Illness                   object\n",
       "Visitors with Patient                  int64\n",
       "Age                                   object\n",
       "Admission_Deposit                    float64\n",
       "Stay                                  object\n",
       "dtype: object"
      ]
     },
     "execution_count": 10,
     "metadata": {},
     "output_type": "execute_result"
    }
   ],
   "source": [
    "data.dtypes"
   ]
  },
  {
   "cell_type": "markdown",
   "id": "7c5c24b1",
   "metadata": {
    "papermill": {
     "duration": 0.014217,
     "end_time": "2022-05-29T15:26:16.004222",
     "exception": false,
     "start_time": "2022-05-29T15:26:15.990005",
     "status": "completed"
    },
    "tags": []
   },
   "source": [
    "Encode the categorical columns (column with 'object') to numerical values"
   ]
  },
  {
   "cell_type": "code",
   "execution_count": 11,
   "id": "ee17a8f7",
   "metadata": {
    "execution": {
     "iopub.execute_input": "2022-05-29T15:26:16.033332Z",
     "iopub.status.busy": "2022-05-29T15:26:16.032140Z",
     "iopub.status.idle": "2022-05-29T15:26:16.038309Z",
     "shell.execute_reply": "2022-05-29T15:26:16.037661Z"
    },
    "papermill": {
     "duration": 0.023423,
     "end_time": "2022-05-29T15:26:16.040059",
     "exception": false,
     "start_time": "2022-05-29T15:26:16.016636",
     "status": "completed"
    },
    "tags": []
   },
   "outputs": [],
   "source": [
    "def get_categorical_uniques(data):\n",
    "    categorical_columns = [column for column in data.dtypes.index if data.dtypes[column] == 'object']\n",
    "    categorical_uniques = {column: data[column].unique() for column in categorical_columns}\n",
    "    \n",
    "    return categorical_uniques"
   ]
  },
  {
   "cell_type": "code",
   "execution_count": 12,
   "id": "c8b2e16c",
   "metadata": {
    "execution": {
     "iopub.execute_input": "2022-05-29T15:26:16.074452Z",
     "iopub.status.busy": "2022-05-29T15:26:16.073253Z",
     "iopub.status.idle": "2022-05-29T15:26:16.323955Z",
     "shell.execute_reply": "2022-05-29T15:26:16.322861Z"
    },
    "papermill": {
     "duration": 0.272262,
     "end_time": "2022-05-29T15:26:16.325759",
     "exception": false,
     "start_time": "2022-05-29T15:26:16.053497",
     "status": "completed"
    },
    "tags": []
   },
   "outputs": [
    {
     "data": {
      "text/plain": [
       "{'Hospital_type_code': array(['c', 'e', 'b', 'a', 'f', 'd', 'g'], dtype=object),\n",
       " 'Hospital_region_code': array(['Z', 'X', 'Y'], dtype=object),\n",
       " 'Department': array(['radiotherapy', 'anesthesia', 'gynecology', 'TB & Chest disease',\n",
       "        'surgery'], dtype=object),\n",
       " 'Ward_Type': array(['R', 'S', 'Q', 'P', 'T', 'U'], dtype=object),\n",
       " 'Ward_Facility_Code': array(['F', 'E', 'D', 'B', 'A', 'C'], dtype=object),\n",
       " 'Type of Admission': array(['Emergency', 'Trauma', 'Urgent'], dtype=object),\n",
       " 'Severity of Illness': array(['Extreme', 'Moderate', 'Minor'], dtype=object),\n",
       " 'Age': array(['51-60', '71-80', '31-40', '41-50', '81-90', '61-70', '21-30',\n",
       "        '11-20', '0-10', '91-100'], dtype=object),\n",
       " 'Stay': array(['0-10', '41-50', '31-40', '11-20', '51-60', '21-30', '71-80',\n",
       "        'More than 100 Days', '81-90', '61-70', '91-100'], dtype=object)}"
      ]
     },
     "execution_count": 12,
     "metadata": {},
     "output_type": "execute_result"
    }
   ],
   "source": [
    "get_categorical_uniques(data)"
   ]
  },
  {
   "cell_type": "markdown",
   "id": "5c005622",
   "metadata": {
    "papermill": {
     "duration": 0.010604,
     "end_time": "2022-05-29T15:26:16.347264",
     "exception": false,
     "start_time": "2022-05-29T15:26:16.336660",
     "status": "completed"
    },
    "tags": []
   },
   "source": [
    "<b>One hot encoding</b> can be done to columns:\n",
    "   1. Hospital_type_code\n",
    "   2. Hospital_region_code\n",
    "   3. Department\n",
    "   4. Ward_Type\n",
    "   5. Ward_Facility_Code\n",
    "as these column values have no priority ordering.\n",
    "\n",
    "<b>Normal numeric coding</b> can be done to rest of the columns:\n",
    "   1. Type of Admission\n",
    "   2. Severity of Illness\n",
    "   3. Age\n",
    "   4. Stay\n",
    "as these have a priority ordering"
   ]
  },
  {
   "cell_type": "markdown",
   "id": "37007808",
   "metadata": {
    "papermill": {
     "duration": 0.010543,
     "end_time": "2022-05-29T15:26:16.368772",
     "exception": false,
     "start_time": "2022-05-29T15:26:16.358229",
     "status": "completed"
    },
    "tags": []
   },
   "source": [
    "#### onehot encoding"
   ]
  },
  {
   "cell_type": "code",
   "execution_count": 13,
   "id": "16a70924",
   "metadata": {
    "execution": {
     "iopub.execute_input": "2022-05-29T15:26:16.393482Z",
     "iopub.status.busy": "2022-05-29T15:26:16.392752Z",
     "iopub.status.idle": "2022-05-29T15:26:16.399386Z",
     "shell.execute_reply": "2022-05-29T15:26:16.398338Z"
    },
    "papermill": {
     "duration": 0.021581,
     "end_time": "2022-05-29T15:26:16.401481",
     "exception": false,
     "start_time": "2022-05-29T15:26:16.379900",
     "status": "completed"
    },
    "tags": []
   },
   "outputs": [],
   "source": [
    "def onehot_encode(data, columns):\n",
    "    for column in columns:\n",
    "        dummies = pd.get_dummies(data[column])       # onehot encoding \n",
    "        data = pd.concat([data, dummies], axis=1)    # adding encoded columns to dataset, axis=1 means add to column row\n",
    "        data.drop(column, axis=1, inplace=True)      #inplace=True means make the drop permanent\n",
    "    return data"
   ]
  },
  {
   "cell_type": "code",
   "execution_count": 14,
   "id": "c2b986cb",
   "metadata": {
    "execution": {
     "iopub.execute_input": "2022-05-29T15:26:16.427078Z",
     "iopub.status.busy": "2022-05-29T15:26:16.426009Z",
     "iopub.status.idle": "2022-05-29T15:26:16.431500Z",
     "shell.execute_reply": "2022-05-29T15:26:16.430759Z"
    },
    "papermill": {
     "duration": 0.020713,
     "end_time": "2022-05-29T15:26:16.433459",
     "exception": false,
     "start_time": "2022-05-29T15:26:16.412746",
     "status": "completed"
    },
    "tags": []
   },
   "outputs": [],
   "source": [
    "onehot_columns = ['Hospital_type_code', 'Hospital_region_code', 'Department', 'Ward_Type', 'Ward_Facility_Code']"
   ]
  },
  {
   "cell_type": "code",
   "execution_count": 15,
   "id": "1ddf9432",
   "metadata": {
    "execution": {
     "iopub.execute_input": "2022-05-29T15:26:16.457313Z",
     "iopub.status.busy": "2022-05-29T15:26:16.456623Z",
     "iopub.status.idle": "2022-05-29T15:26:17.314621Z",
     "shell.execute_reply": "2022-05-29T15:26:17.313433Z"
    },
    "papermill": {
     "duration": 0.872679,
     "end_time": "2022-05-29T15:26:17.317221",
     "exception": false,
     "start_time": "2022-05-29T15:26:16.444542",
     "status": "completed"
    },
    "tags": []
   },
   "outputs": [],
   "source": [
    "data = onehot_encode(data, onehot_columns)"
   ]
  },
  {
   "cell_type": "code",
   "execution_count": 16,
   "id": "2d70c338",
   "metadata": {
    "execution": {
     "iopub.execute_input": "2022-05-29T15:26:17.354746Z",
     "iopub.status.busy": "2022-05-29T15:26:17.353858Z",
     "iopub.status.idle": "2022-05-29T15:26:17.467451Z",
     "shell.execute_reply": "2022-05-29T15:26:17.466503Z"
    },
    "papermill": {
     "duration": 0.134499,
     "end_time": "2022-05-29T15:26:17.469544",
     "exception": false,
     "start_time": "2022-05-29T15:26:17.335045",
     "status": "completed"
    },
    "tags": []
   },
   "outputs": [
    {
     "data": {
      "text/html": [
       "<div>\n",
       "<style scoped>\n",
       "    .dataframe tbody tr th:only-of-type {\n",
       "        vertical-align: middle;\n",
       "    }\n",
       "\n",
       "    .dataframe tbody tr th {\n",
       "        vertical-align: top;\n",
       "    }\n",
       "\n",
       "    .dataframe thead th {\n",
       "        text-align: right;\n",
       "    }\n",
       "</style>\n",
       "<table border=\"1\" class=\"dataframe\">\n",
       "  <thead>\n",
       "    <tr style=\"text-align: right;\">\n",
       "      <th></th>\n",
       "      <th>Hospital_code</th>\n",
       "      <th>City_Code_Hospital</th>\n",
       "      <th>Available Extra Rooms in Hospital</th>\n",
       "      <th>Bed Grade</th>\n",
       "      <th>patientid</th>\n",
       "      <th>City_Code_Patient</th>\n",
       "      <th>Type of Admission</th>\n",
       "      <th>Severity of Illness</th>\n",
       "      <th>Visitors with Patient</th>\n",
       "      <th>Age</th>\n",
       "      <th>...</th>\n",
       "      <th>R</th>\n",
       "      <th>S</th>\n",
       "      <th>T</th>\n",
       "      <th>U</th>\n",
       "      <th>A</th>\n",
       "      <th>B</th>\n",
       "      <th>C</th>\n",
       "      <th>D</th>\n",
       "      <th>E</th>\n",
       "      <th>F</th>\n",
       "    </tr>\n",
       "    <tr>\n",
       "      <th>case_id</th>\n",
       "      <th></th>\n",
       "      <th></th>\n",
       "      <th></th>\n",
       "      <th></th>\n",
       "      <th></th>\n",
       "      <th></th>\n",
       "      <th></th>\n",
       "      <th></th>\n",
       "      <th></th>\n",
       "      <th></th>\n",
       "      <th></th>\n",
       "      <th></th>\n",
       "      <th></th>\n",
       "      <th></th>\n",
       "      <th></th>\n",
       "      <th></th>\n",
       "      <th></th>\n",
       "      <th></th>\n",
       "      <th></th>\n",
       "      <th></th>\n",
       "      <th></th>\n",
       "    </tr>\n",
       "  </thead>\n",
       "  <tbody>\n",
       "    <tr>\n",
       "      <th>1</th>\n",
       "      <td>8</td>\n",
       "      <td>3</td>\n",
       "      <td>3</td>\n",
       "      <td>2.0</td>\n",
       "      <td>31397</td>\n",
       "      <td>7.0</td>\n",
       "      <td>Emergency</td>\n",
       "      <td>Extreme</td>\n",
       "      <td>2</td>\n",
       "      <td>51-60</td>\n",
       "      <td>...</td>\n",
       "      <td>1</td>\n",
       "      <td>0</td>\n",
       "      <td>0</td>\n",
       "      <td>0</td>\n",
       "      <td>0</td>\n",
       "      <td>0</td>\n",
       "      <td>0</td>\n",
       "      <td>0</td>\n",
       "      <td>0</td>\n",
       "      <td>1</td>\n",
       "    </tr>\n",
       "    <tr>\n",
       "      <th>2</th>\n",
       "      <td>2</td>\n",
       "      <td>5</td>\n",
       "      <td>2</td>\n",
       "      <td>2.0</td>\n",
       "      <td>31397</td>\n",
       "      <td>7.0</td>\n",
       "      <td>Trauma</td>\n",
       "      <td>Extreme</td>\n",
       "      <td>2</td>\n",
       "      <td>51-60</td>\n",
       "      <td>...</td>\n",
       "      <td>0</td>\n",
       "      <td>1</td>\n",
       "      <td>0</td>\n",
       "      <td>0</td>\n",
       "      <td>0</td>\n",
       "      <td>0</td>\n",
       "      <td>0</td>\n",
       "      <td>0</td>\n",
       "      <td>0</td>\n",
       "      <td>1</td>\n",
       "    </tr>\n",
       "    <tr>\n",
       "      <th>3</th>\n",
       "      <td>10</td>\n",
       "      <td>1</td>\n",
       "      <td>2</td>\n",
       "      <td>2.0</td>\n",
       "      <td>31397</td>\n",
       "      <td>7.0</td>\n",
       "      <td>Trauma</td>\n",
       "      <td>Extreme</td>\n",
       "      <td>2</td>\n",
       "      <td>51-60</td>\n",
       "      <td>...</td>\n",
       "      <td>0</td>\n",
       "      <td>1</td>\n",
       "      <td>0</td>\n",
       "      <td>0</td>\n",
       "      <td>0</td>\n",
       "      <td>0</td>\n",
       "      <td>0</td>\n",
       "      <td>0</td>\n",
       "      <td>1</td>\n",
       "      <td>0</td>\n",
       "    </tr>\n",
       "    <tr>\n",
       "      <th>4</th>\n",
       "      <td>26</td>\n",
       "      <td>2</td>\n",
       "      <td>2</td>\n",
       "      <td>2.0</td>\n",
       "      <td>31397</td>\n",
       "      <td>7.0</td>\n",
       "      <td>Trauma</td>\n",
       "      <td>Extreme</td>\n",
       "      <td>2</td>\n",
       "      <td>51-60</td>\n",
       "      <td>...</td>\n",
       "      <td>1</td>\n",
       "      <td>0</td>\n",
       "      <td>0</td>\n",
       "      <td>0</td>\n",
       "      <td>0</td>\n",
       "      <td>0</td>\n",
       "      <td>0</td>\n",
       "      <td>1</td>\n",
       "      <td>0</td>\n",
       "      <td>0</td>\n",
       "    </tr>\n",
       "    <tr>\n",
       "      <th>5</th>\n",
       "      <td>26</td>\n",
       "      <td>2</td>\n",
       "      <td>2</td>\n",
       "      <td>2.0</td>\n",
       "      <td>31397</td>\n",
       "      <td>7.0</td>\n",
       "      <td>Trauma</td>\n",
       "      <td>Extreme</td>\n",
       "      <td>2</td>\n",
       "      <td>51-60</td>\n",
       "      <td>...</td>\n",
       "      <td>0</td>\n",
       "      <td>1</td>\n",
       "      <td>0</td>\n",
       "      <td>0</td>\n",
       "      <td>0</td>\n",
       "      <td>0</td>\n",
       "      <td>0</td>\n",
       "      <td>1</td>\n",
       "      <td>0</td>\n",
       "      <td>0</td>\n",
       "    </tr>\n",
       "    <tr>\n",
       "      <th>...</th>\n",
       "      <td>...</td>\n",
       "      <td>...</td>\n",
       "      <td>...</td>\n",
       "      <td>...</td>\n",
       "      <td>...</td>\n",
       "      <td>...</td>\n",
       "      <td>...</td>\n",
       "      <td>...</td>\n",
       "      <td>...</td>\n",
       "      <td>...</td>\n",
       "      <td>...</td>\n",
       "      <td>...</td>\n",
       "      <td>...</td>\n",
       "      <td>...</td>\n",
       "      <td>...</td>\n",
       "      <td>...</td>\n",
       "      <td>...</td>\n",
       "      <td>...</td>\n",
       "      <td>...</td>\n",
       "      <td>...</td>\n",
       "      <td>...</td>\n",
       "    </tr>\n",
       "    <tr>\n",
       "      <th>318434</th>\n",
       "      <td>6</td>\n",
       "      <td>6</td>\n",
       "      <td>3</td>\n",
       "      <td>4.0</td>\n",
       "      <td>86499</td>\n",
       "      <td>23.0</td>\n",
       "      <td>Emergency</td>\n",
       "      <td>Moderate</td>\n",
       "      <td>3</td>\n",
       "      <td>41-50</td>\n",
       "      <td>...</td>\n",
       "      <td>0</td>\n",
       "      <td>0</td>\n",
       "      <td>0</td>\n",
       "      <td>0</td>\n",
       "      <td>0</td>\n",
       "      <td>0</td>\n",
       "      <td>0</td>\n",
       "      <td>0</td>\n",
       "      <td>0</td>\n",
       "      <td>1</td>\n",
       "    </tr>\n",
       "    <tr>\n",
       "      <th>318435</th>\n",
       "      <td>24</td>\n",
       "      <td>1</td>\n",
       "      <td>2</td>\n",
       "      <td>4.0</td>\n",
       "      <td>325</td>\n",
       "      <td>8.0</td>\n",
       "      <td>Urgent</td>\n",
       "      <td>Moderate</td>\n",
       "      <td>4</td>\n",
       "      <td>81-90</td>\n",
       "      <td>...</td>\n",
       "      <td>0</td>\n",
       "      <td>0</td>\n",
       "      <td>0</td>\n",
       "      <td>0</td>\n",
       "      <td>0</td>\n",
       "      <td>0</td>\n",
       "      <td>0</td>\n",
       "      <td>0</td>\n",
       "      <td>1</td>\n",
       "      <td>0</td>\n",
       "    </tr>\n",
       "    <tr>\n",
       "      <th>318436</th>\n",
       "      <td>7</td>\n",
       "      <td>4</td>\n",
       "      <td>3</td>\n",
       "      <td>4.0</td>\n",
       "      <td>125235</td>\n",
       "      <td>10.0</td>\n",
       "      <td>Emergency</td>\n",
       "      <td>Minor</td>\n",
       "      <td>3</td>\n",
       "      <td>71-80</td>\n",
       "      <td>...</td>\n",
       "      <td>1</td>\n",
       "      <td>0</td>\n",
       "      <td>0</td>\n",
       "      <td>0</td>\n",
       "      <td>0</td>\n",
       "      <td>0</td>\n",
       "      <td>0</td>\n",
       "      <td>0</td>\n",
       "      <td>0</td>\n",
       "      <td>1</td>\n",
       "    </tr>\n",
       "    <tr>\n",
       "      <th>318437</th>\n",
       "      <td>11</td>\n",
       "      <td>2</td>\n",
       "      <td>3</td>\n",
       "      <td>3.0</td>\n",
       "      <td>91081</td>\n",
       "      <td>8.0</td>\n",
       "      <td>Trauma</td>\n",
       "      <td>Minor</td>\n",
       "      <td>5</td>\n",
       "      <td>11-20</td>\n",
       "      <td>...</td>\n",
       "      <td>0</td>\n",
       "      <td>0</td>\n",
       "      <td>0</td>\n",
       "      <td>0</td>\n",
       "      <td>0</td>\n",
       "      <td>0</td>\n",
       "      <td>0</td>\n",
       "      <td>1</td>\n",
       "      <td>0</td>\n",
       "      <td>0</td>\n",
       "    </tr>\n",
       "    <tr>\n",
       "      <th>318438</th>\n",
       "      <td>19</td>\n",
       "      <td>7</td>\n",
       "      <td>5</td>\n",
       "      <td>2.0</td>\n",
       "      <td>21641</td>\n",
       "      <td>8.0</td>\n",
       "      <td>Emergency</td>\n",
       "      <td>Minor</td>\n",
       "      <td>2</td>\n",
       "      <td>11-20</td>\n",
       "      <td>...</td>\n",
       "      <td>0</td>\n",
       "      <td>0</td>\n",
       "      <td>0</td>\n",
       "      <td>0</td>\n",
       "      <td>0</td>\n",
       "      <td>0</td>\n",
       "      <td>1</td>\n",
       "      <td>0</td>\n",
       "      <td>0</td>\n",
       "      <td>0</td>\n",
       "    </tr>\n",
       "  </tbody>\n",
       "</table>\n",
       "<p>318438 rows × 39 columns</p>\n",
       "</div>"
      ],
      "text/plain": [
       "         Hospital_code  City_Code_Hospital  Available Extra Rooms in Hospital  \\\n",
       "case_id                                                                         \n",
       "1                    8                   3                                  3   \n",
       "2                    2                   5                                  2   \n",
       "3                   10                   1                                  2   \n",
       "4                   26                   2                                  2   \n",
       "5                   26                   2                                  2   \n",
       "...                ...                 ...                                ...   \n",
       "318434               6                   6                                  3   \n",
       "318435              24                   1                                  2   \n",
       "318436               7                   4                                  3   \n",
       "318437              11                   2                                  3   \n",
       "318438              19                   7                                  5   \n",
       "\n",
       "         Bed Grade  patientid  City_Code_Patient Type of Admission  \\\n",
       "case_id                                                              \n",
       "1              2.0      31397                7.0         Emergency   \n",
       "2              2.0      31397                7.0            Trauma   \n",
       "3              2.0      31397                7.0            Trauma   \n",
       "4              2.0      31397                7.0            Trauma   \n",
       "5              2.0      31397                7.0            Trauma   \n",
       "...            ...        ...                ...               ...   \n",
       "318434         4.0      86499               23.0         Emergency   \n",
       "318435         4.0        325                8.0            Urgent   \n",
       "318436         4.0     125235               10.0         Emergency   \n",
       "318437         3.0      91081                8.0            Trauma   \n",
       "318438         2.0      21641                8.0         Emergency   \n",
       "\n",
       "        Severity of Illness  Visitors with Patient    Age  ...  R  S  T  U  A  \\\n",
       "case_id                                                    ...                  \n",
       "1                   Extreme                      2  51-60  ...  1  0  0  0  0   \n",
       "2                   Extreme                      2  51-60  ...  0  1  0  0  0   \n",
       "3                   Extreme                      2  51-60  ...  0  1  0  0  0   \n",
       "4                   Extreme                      2  51-60  ...  1  0  0  0  0   \n",
       "5                   Extreme                      2  51-60  ...  0  1  0  0  0   \n",
       "...                     ...                    ...    ...  ... .. .. .. .. ..   \n",
       "318434             Moderate                      3  41-50  ...  0  0  0  0  0   \n",
       "318435             Moderate                      4  81-90  ...  0  0  0  0  0   \n",
       "318436                Minor                      3  71-80  ...  1  0  0  0  0   \n",
       "318437                Minor                      5  11-20  ...  0  0  0  0  0   \n",
       "318438                Minor                      2  11-20  ...  0  0  0  0  0   \n",
       "\n",
       "         B  C  D  E  F  \n",
       "case_id                 \n",
       "1        0  0  0  0  1  \n",
       "2        0  0  0  0  1  \n",
       "3        0  0  0  1  0  \n",
       "4        0  0  1  0  0  \n",
       "5        0  0  1  0  0  \n",
       "...     .. .. .. .. ..  \n",
       "318434   0  0  0  0  1  \n",
       "318435   0  0  0  1  0  \n",
       "318436   0  0  0  0  1  \n",
       "318437   0  0  1  0  0  \n",
       "318438   0  1  0  0  0  \n",
       "\n",
       "[318438 rows x 39 columns]"
      ]
     },
     "execution_count": 16,
     "metadata": {},
     "output_type": "execute_result"
    }
   ],
   "source": [
    "data"
   ]
  },
  {
   "cell_type": "code",
   "execution_count": 17,
   "id": "3f3ded27",
   "metadata": {
    "execution": {
     "iopub.execute_input": "2022-05-29T15:26:17.507940Z",
     "iopub.status.busy": "2022-05-29T15:26:17.507382Z",
     "iopub.status.idle": "2022-05-29T15:26:17.596072Z",
     "shell.execute_reply": "2022-05-29T15:26:17.595258Z"
    },
    "papermill": {
     "duration": 0.109952,
     "end_time": "2022-05-29T15:26:17.598090",
     "exception": false,
     "start_time": "2022-05-29T15:26:17.488138",
     "status": "completed"
    },
    "tags": []
   },
   "outputs": [
    {
     "data": {
      "text/plain": [
       "{'Type of Admission': array(['Emergency', 'Trauma', 'Urgent'], dtype=object),\n",
       " 'Severity of Illness': array(['Extreme', 'Moderate', 'Minor'], dtype=object),\n",
       " 'Age': array(['51-60', '71-80', '31-40', '41-50', '81-90', '61-70', '21-30',\n",
       "        '11-20', '0-10', '91-100'], dtype=object),\n",
       " 'Stay': array(['0-10', '41-50', '31-40', '11-20', '51-60', '21-30', '71-80',\n",
       "        'More than 100 Days', '81-90', '61-70', '91-100'], dtype=object)}"
      ]
     },
     "execution_count": 17,
     "metadata": {},
     "output_type": "execute_result"
    }
   ],
   "source": [
    "categorical_uniques = get_categorical_uniques(data)\n",
    "categorical_uniques"
   ]
  },
  {
   "cell_type": "markdown",
   "id": "8fa494ce",
   "metadata": {
    "papermill": {
     "duration": 0.018491,
     "end_time": "2022-05-29T15:26:17.635462",
     "exception": false,
     "start_time": "2022-05-29T15:26:17.616971",
     "status": "completed"
    },
    "tags": []
   },
   "source": [
    "Sorting the remaining categorical values in ascending order"
   ]
  },
  {
   "cell_type": "code",
   "execution_count": 18,
   "id": "158aa52a",
   "metadata": {
    "execution": {
     "iopub.execute_input": "2022-05-29T15:26:17.663846Z",
     "iopub.status.busy": "2022-05-29T15:26:17.663463Z",
     "iopub.status.idle": "2022-05-29T15:26:17.667658Z",
     "shell.execute_reply": "2022-05-29T15:26:17.666837Z"
    },
    "papermill": {
     "duration": 0.018444,
     "end_time": "2022-05-29T15:26:17.669152",
     "exception": false,
     "start_time": "2022-05-29T15:26:17.650708",
     "status": "completed"
    },
    "tags": []
   },
   "outputs": [],
   "source": [
    "for column in categorical_uniques:\n",
    "    categorical_uniques[column] = sorted(categorical_uniques[column])"
   ]
  },
  {
   "cell_type": "code",
   "execution_count": 19,
   "id": "b4039ce0",
   "metadata": {
    "execution": {
     "iopub.execute_input": "2022-05-29T15:26:17.693496Z",
     "iopub.status.busy": "2022-05-29T15:26:17.693064Z",
     "iopub.status.idle": "2022-05-29T15:26:17.699911Z",
     "shell.execute_reply": "2022-05-29T15:26:17.698807Z"
    },
    "papermill": {
     "duration": 0.021381,
     "end_time": "2022-05-29T15:26:17.702068",
     "exception": false,
     "start_time": "2022-05-29T15:26:17.680687",
     "status": "completed"
    },
    "tags": []
   },
   "outputs": [
    {
     "data": {
      "text/plain": [
       "{'Type of Admission': ['Emergency', 'Trauma', 'Urgent'],\n",
       " 'Severity of Illness': ['Extreme', 'Minor', 'Moderate'],\n",
       " 'Age': ['0-10',\n",
       "  '11-20',\n",
       "  '21-30',\n",
       "  '31-40',\n",
       "  '41-50',\n",
       "  '51-60',\n",
       "  '61-70',\n",
       "  '71-80',\n",
       "  '81-90',\n",
       "  '91-100'],\n",
       " 'Stay': ['0-10',\n",
       "  '11-20',\n",
       "  '21-30',\n",
       "  '31-40',\n",
       "  '41-50',\n",
       "  '51-60',\n",
       "  '61-70',\n",
       "  '71-80',\n",
       "  '81-90',\n",
       "  '91-100',\n",
       "  'More than 100 Days']}"
      ]
     },
     "execution_count": 19,
     "metadata": {},
     "output_type": "execute_result"
    }
   ],
   "source": [
    "categorical_uniques"
   ]
  },
  {
   "cell_type": "markdown",
   "id": "37265a14",
   "metadata": {
    "papermill": {
     "duration": 0.018112,
     "end_time": "2022-05-29T15:26:17.738713",
     "exception": false,
     "start_time": "2022-05-29T15:26:17.720601",
     "status": "completed"
    },
    "tags": []
   },
   "source": [
    "'Type of Admission' and 'Severity of Illness' columns needs to be manually sorted in order of priority"
   ]
  },
  {
   "cell_type": "code",
   "execution_count": 20,
   "id": "c6151a2d",
   "metadata": {
    "execution": {
     "iopub.execute_input": "2022-05-29T15:26:17.779970Z",
     "iopub.status.busy": "2022-05-29T15:26:17.779057Z",
     "iopub.status.idle": "2022-05-29T15:26:17.785870Z",
     "shell.execute_reply": "2022-05-29T15:26:17.785129Z"
    },
    "papermill": {
     "duration": 0.029527,
     "end_time": "2022-05-29T15:26:17.787829",
     "exception": false,
     "start_time": "2022-05-29T15:26:17.758302",
     "status": "completed"
    },
    "tags": []
   },
   "outputs": [],
   "source": [
    "unique_list = categorical_uniques['Type of Admission']\n",
    "unique_list.insert(0, unique_list.pop(unique_list.index('Urgent')))\n",
    "unique_list.insert(0, unique_list.pop(unique_list.index('Trauma')))\n",
    "\n",
    "unique_list = categorical_uniques['Severity of Illness']\n",
    "unique_list.insert(0, unique_list.pop(unique_list.index('Moderate')))\n",
    "unique_list.insert(0, unique_list.pop(unique_list.index('Minor')))"
   ]
  },
  {
   "cell_type": "code",
   "execution_count": 21,
   "id": "9d089410",
   "metadata": {
    "execution": {
     "iopub.execute_input": "2022-05-29T15:26:17.827545Z",
     "iopub.status.busy": "2022-05-29T15:26:17.827091Z",
     "iopub.status.idle": "2022-05-29T15:26:17.834684Z",
     "shell.execute_reply": "2022-05-29T15:26:17.833128Z"
    },
    "papermill": {
     "duration": 0.030092,
     "end_time": "2022-05-29T15:26:17.837025",
     "exception": false,
     "start_time": "2022-05-29T15:26:17.806933",
     "status": "completed"
    },
    "tags": []
   },
   "outputs": [
    {
     "data": {
      "text/plain": [
       "{'Type of Admission': ['Trauma', 'Urgent', 'Emergency'],\n",
       " 'Severity of Illness': ['Minor', 'Moderate', 'Extreme'],\n",
       " 'Age': ['0-10',\n",
       "  '11-20',\n",
       "  '21-30',\n",
       "  '31-40',\n",
       "  '41-50',\n",
       "  '51-60',\n",
       "  '61-70',\n",
       "  '71-80',\n",
       "  '81-90',\n",
       "  '91-100'],\n",
       " 'Stay': ['0-10',\n",
       "  '11-20',\n",
       "  '21-30',\n",
       "  '31-40',\n",
       "  '41-50',\n",
       "  '51-60',\n",
       "  '61-70',\n",
       "  '71-80',\n",
       "  '81-90',\n",
       "  '91-100',\n",
       "  'More than 100 Days']}"
      ]
     },
     "execution_count": 21,
     "metadata": {},
     "output_type": "execute_result"
    }
   ],
   "source": [
    "categorical_uniques    # now these columns are sorted in order of priority"
   ]
  },
  {
   "cell_type": "markdown",
   "id": "aed912a2",
   "metadata": {
    "papermill": {
     "duration": 0.018183,
     "end_time": "2022-05-29T15:26:17.873889",
     "exception": false,
     "start_time": "2022-05-29T15:26:17.855706",
     "status": "completed"
    },
    "tags": []
   },
   "source": [
    "After mapping, we will lose the original value. \n",
    "After prediction we will need to remap the stay values to respective days range. For that we are preserving the mapping."
   ]
  },
  {
   "cell_type": "code",
   "execution_count": 22,
   "id": "03d709f1",
   "metadata": {
    "execution": {
     "iopub.execute_input": "2022-05-29T15:26:17.913050Z",
     "iopub.status.busy": "2022-05-29T15:26:17.912639Z",
     "iopub.status.idle": "2022-05-29T15:26:17.918937Z",
     "shell.execute_reply": "2022-05-29T15:26:17.918314Z"
    },
    "papermill": {
     "duration": 0.028249,
     "end_time": "2022-05-29T15:26:17.920727",
     "exception": false,
     "start_time": "2022-05-29T15:26:17.892478",
     "status": "completed"
    },
    "tags": []
   },
   "outputs": [
    {
     "data": {
      "text/plain": [
       "{'0-10': 0,\n",
       " '11-20': 1,\n",
       " '21-30': 2,\n",
       " '31-40': 3,\n",
       " '41-50': 4,\n",
       " '51-60': 5,\n",
       " '61-70': 6,\n",
       " '71-80': 7,\n",
       " '81-90': 8,\n",
       " '91-100': 9,\n",
       " 'More than 100 Days': 10}"
      ]
     },
     "execution_count": 22,
     "metadata": {},
     "output_type": "execute_result"
    }
   ],
   "source": [
    "stay_mappings = {value: index for index, value in enumerate(categorical_uniques['Stay'])}\n",
    "stay_mappings"
   ]
  },
  {
   "cell_type": "markdown",
   "id": "2f482212",
   "metadata": {
    "papermill": {
     "duration": 0.01836,
     "end_time": "2022-05-29T15:26:17.957911",
     "exception": false,
     "start_time": "2022-05-29T15:26:17.939551",
     "status": "completed"
    },
    "tags": []
   },
   "source": [
    "#### ordinal encoding"
   ]
  },
  {
   "cell_type": "code",
   "execution_count": 23,
   "id": "185d1c49",
   "metadata": {
    "execution": {
     "iopub.execute_input": "2022-05-29T15:26:17.996986Z",
     "iopub.status.busy": "2022-05-29T15:26:17.996601Z",
     "iopub.status.idle": "2022-05-29T15:26:18.001847Z",
     "shell.execute_reply": "2022-05-29T15:26:18.000753Z"
    },
    "papermill": {
     "duration": 0.027319,
     "end_time": "2022-05-29T15:26:18.003734",
     "exception": false,
     "start_time": "2022-05-29T15:26:17.976415",
     "status": "completed"
    },
    "tags": []
   },
   "outputs": [],
   "source": [
    "def ordinal_encoding(data, uniques):\n",
    "    for column in uniques:\n",
    "        data[column] = data[column].apply(lambda x: uniques[column].index(x))"
   ]
  },
  {
   "cell_type": "code",
   "execution_count": 24,
   "id": "42cbe7b2",
   "metadata": {
    "execution": {
     "iopub.execute_input": "2022-05-29T15:26:18.043384Z",
     "iopub.status.busy": "2022-05-29T15:26:18.042765Z",
     "iopub.status.idle": "2022-05-29T15:26:19.067306Z",
     "shell.execute_reply": "2022-05-29T15:26:19.066430Z"
    },
    "papermill": {
     "duration": 1.047325,
     "end_time": "2022-05-29T15:26:19.069866",
     "exception": false,
     "start_time": "2022-05-29T15:26:18.022541",
     "status": "completed"
    },
    "tags": []
   },
   "outputs": [],
   "source": [
    "ordinal_encoding(data, categorical_uniques)"
   ]
  },
  {
   "cell_type": "markdown",
   "id": "1e2a06ef",
   "metadata": {
    "papermill": {
     "duration": 0.018482,
     "end_time": "2022-05-29T15:26:19.107559",
     "exception": false,
     "start_time": "2022-05-29T15:26:19.089077",
     "status": "completed"
    },
    "tags": []
   },
   "source": [
    "Correlation between columns and 'Stay' column"
   ]
  },
  {
   "cell_type": "code",
   "execution_count": 25,
   "id": "a05f0619",
   "metadata": {
    "execution": {
     "iopub.execute_input": "2022-05-29T15:26:19.146424Z",
     "iopub.status.busy": "2022-05-29T15:26:19.146018Z",
     "iopub.status.idle": "2022-05-29T15:26:19.257963Z",
     "shell.execute_reply": "2022-05-29T15:26:19.257159Z"
    },
    "papermill": {
     "duration": 0.133917,
     "end_time": "2022-05-29T15:26:19.260170",
     "exception": false,
     "start_time": "2022-05-29T15:26:19.126253",
     "status": "completed"
    },
    "tags": []
   },
   "outputs": [
    {
     "name": "stdout",
     "output_type": "stream",
     "text": [
      "Hospital_code : 0.04284557472532863\n",
      "City_Code_Hospital : 0.00638097699968916\n",
      "Available Extra Rooms in Hospital : -0.12111984506714463\n",
      "Bed Grade : 0.025736513760105186\n",
      "patientid : 0.0011247864602724038\n",
      "City_Code_Patient : -0.009625233784773288\n",
      "Type of Admission : -0.0843788124369608\n",
      "Severity of Illness : 0.12615971786797117\n",
      "Visitors with Patient : 0.5375366504724675\n",
      "Age : 0.09416326795751238\n",
      "Admission_Deposit : -0.05207692726906841\n",
      "Stay : 1.0\n",
      "a : -0.07075893215806142\n",
      "b : 0.04009251292968163\n",
      "c : 0.013648495287559789\n",
      "d : 0.021420548461382336\n",
      "e : -0.003343357335244349\n",
      "f : 0.030880056550402345\n",
      "g : 0.03460462646993682\n",
      "X : -0.012303675999893496\n",
      "Y : 0.006538817756116777\n",
      "Z : 0.007266429205150117\n",
      "TB & Chest disease : -0.009482084936749076\n",
      "anesthesia : -0.029596694373108575\n",
      "gynecology : 0.010515766980378956\n",
      "radiotherapy : 0.01729005355565621\n",
      "surgery : 0.015536689419824666\n",
      "P : -0.03590472733589073\n",
      "Q : -0.1332646090564743\n",
      "R : -0.019014324125649466\n",
      "S : 0.17693562428945436\n",
      "T : 0.009119405762158875\n",
      "U : -0.0025514835026070356\n",
      "A : 0.009810334567392916\n",
      "B : 0.03225926287072947\n",
      "C : -0.0665307128579646\n",
      "D : 0.037933171551168376\n",
      "E : -0.031236253294350442\n",
      "F : 0.012299866701219549\n"
     ]
    }
   ],
   "source": [
    "for col in data.columns.values.tolist():\n",
    "    print(col + ' : ' + str(data[col].corr(data['Stay'])))"
   ]
  },
  {
   "cell_type": "markdown",
   "id": "d21fb16b",
   "metadata": {
    "papermill": {
     "duration": 0.019492,
     "end_time": "2022-05-29T15:26:19.291657",
     "exception": false,
     "start_time": "2022-05-29T15:26:19.272165",
     "status": "completed"
    },
    "tags": []
   },
   "source": [
    "### Scaling"
   ]
  },
  {
   "cell_type": "code",
   "execution_count": 26,
   "id": "efd765f1",
   "metadata": {
    "execution": {
     "iopub.execute_input": "2022-05-29T15:26:19.322192Z",
     "iopub.status.busy": "2022-05-29T15:26:19.321735Z",
     "iopub.status.idle": "2022-05-29T15:26:19.340956Z",
     "shell.execute_reply": "2022-05-29T15:26:19.340128Z"
    },
    "papermill": {
     "duration": 0.034409,
     "end_time": "2022-05-29T15:26:19.343115",
     "exception": false,
     "start_time": "2022-05-29T15:26:19.308706",
     "status": "completed"
    },
    "tags": []
   },
   "outputs": [],
   "source": [
    "y = data['Stay']\n",
    "X = data.drop('Stay', axis=1)"
   ]
  },
  {
   "cell_type": "markdown",
   "id": "58f9a8c2",
   "metadata": {
    "papermill": {
     "duration": 0.011716,
     "end_time": "2022-05-29T15:26:19.366969",
     "exception": false,
     "start_time": "2022-05-29T15:26:19.355253",
     "status": "completed"
    },
    "tags": []
   },
   "source": [
    "#### StandardScaler\n",
    "Scaling to unit variance <i>(mean value 0 and standard deviation of 1)</i> <br>\n",
    "This will make it easier for our models to work with. <br>\n",
    "StandardScaler returns a numpy array, so we will then need to convert it to pandas dataframe.\n"
   ]
  },
  {
   "cell_type": "code",
   "execution_count": 27,
   "id": "1d037326",
   "metadata": {
    "execution": {
     "iopub.execute_input": "2022-05-29T15:26:19.392692Z",
     "iopub.status.busy": "2022-05-29T15:26:19.392036Z",
     "iopub.status.idle": "2022-05-29T15:26:19.522408Z",
     "shell.execute_reply": "2022-05-29T15:26:19.521364Z"
    },
    "papermill": {
     "duration": 0.145768,
     "end_time": "2022-05-29T15:26:19.524569",
     "exception": false,
     "start_time": "2022-05-29T15:26:19.378801",
     "status": "completed"
    },
    "tags": []
   },
   "outputs": [],
   "source": [
    "scaler = StandardScaler()\n",
    "X = pd.DataFrame(scaler.fit_transform(X), index=X.index, columns=X.columns)"
   ]
  },
  {
   "cell_type": "code",
   "execution_count": 28,
   "id": "b2927014",
   "metadata": {
    "execution": {
     "iopub.execute_input": "2022-05-29T15:26:19.550902Z",
     "iopub.status.busy": "2022-05-29T15:26:19.550322Z",
     "iopub.status.idle": "2022-05-29T15:26:19.597900Z",
     "shell.execute_reply": "2022-05-29T15:26:19.596697Z"
    },
    "papermill": {
     "duration": 0.062997,
     "end_time": "2022-05-29T15:26:19.599714",
     "exception": false,
     "start_time": "2022-05-29T15:26:19.536717",
     "status": "completed"
    },
    "tags": []
   },
   "outputs": [
    {
     "data": {
      "text/html": [
       "<div>\n",
       "<style scoped>\n",
       "    .dataframe tbody tr th:only-of-type {\n",
       "        vertical-align: middle;\n",
       "    }\n",
       "\n",
       "    .dataframe tbody tr th {\n",
       "        vertical-align: top;\n",
       "    }\n",
       "\n",
       "    .dataframe thead th {\n",
       "        text-align: right;\n",
       "    }\n",
       "</style>\n",
       "<table border=\"1\" class=\"dataframe\">\n",
       "  <thead>\n",
       "    <tr style=\"text-align: right;\">\n",
       "      <th></th>\n",
       "      <th>Hospital_code</th>\n",
       "      <th>City_Code_Hospital</th>\n",
       "      <th>Available Extra Rooms in Hospital</th>\n",
       "      <th>Bed Grade</th>\n",
       "      <th>patientid</th>\n",
       "      <th>City_Code_Patient</th>\n",
       "      <th>Type of Admission</th>\n",
       "      <th>Severity of Illness</th>\n",
       "      <th>Visitors with Patient</th>\n",
       "      <th>Age</th>\n",
       "      <th>...</th>\n",
       "      <th>R</th>\n",
       "      <th>S</th>\n",
       "      <th>T</th>\n",
       "      <th>U</th>\n",
       "      <th>A</th>\n",
       "      <th>B</th>\n",
       "      <th>C</th>\n",
       "      <th>D</th>\n",
       "      <th>E</th>\n",
       "      <th>F</th>\n",
       "    </tr>\n",
       "    <tr>\n",
       "      <th>case_id</th>\n",
       "      <th></th>\n",
       "      <th></th>\n",
       "      <th></th>\n",
       "      <th></th>\n",
       "      <th></th>\n",
       "      <th></th>\n",
       "      <th></th>\n",
       "      <th></th>\n",
       "      <th></th>\n",
       "      <th></th>\n",
       "      <th></th>\n",
       "      <th></th>\n",
       "      <th></th>\n",
       "      <th></th>\n",
       "      <th></th>\n",
       "      <th></th>\n",
       "      <th></th>\n",
       "      <th></th>\n",
       "      <th></th>\n",
       "      <th></th>\n",
       "      <th></th>\n",
       "    </tr>\n",
       "  </thead>\n",
       "  <tbody>\n",
       "    <tr>\n",
       "      <th>1</th>\n",
       "      <td>-1.195176</td>\n",
       "      <td>-0.571055</td>\n",
       "      <td>-0.169177</td>\n",
       "      <td>-0.716855</td>\n",
       "      <td>-0.904442</td>\n",
       "      <td>-0.053458</td>\n",
       "      <td>1.212557</td>\n",
       "      <td>1.646648</td>\n",
       "      <td>-0.727923</td>\n",
       "      <td>0.461600</td>\n",
       "      <td>...</td>\n",
       "      <td>1.220175</td>\n",
       "      <td>-0.568572</td>\n",
       "      <td>-0.068263</td>\n",
       "      <td>-0.005316</td>\n",
       "      <td>-0.309922</td>\n",
       "      <td>-0.352282</td>\n",
       "      <td>-0.354009</td>\n",
       "      <td>-0.440807</td>\n",
       "      <td>-0.458683</td>\n",
       "      <td>1.350633</td>\n",
       "    </tr>\n",
       "    <tr>\n",
       "      <th>2</th>\n",
       "      <td>-1.890124</td>\n",
       "      <td>0.073580</td>\n",
       "      <td>-1.025217</td>\n",
       "      <td>-0.716855</td>\n",
       "      <td>-0.904442</td>\n",
       "      <td>-0.053458</td>\n",
       "      <td>-0.974973</td>\n",
       "      <td>1.646648</td>\n",
       "      <td>-0.727923</td>\n",
       "      <td>0.461600</td>\n",
       "      <td>...</td>\n",
       "      <td>-0.819554</td>\n",
       "      <td>1.758792</td>\n",
       "      <td>-0.068263</td>\n",
       "      <td>-0.005316</td>\n",
       "      <td>-0.309922</td>\n",
       "      <td>-0.352282</td>\n",
       "      <td>-0.354009</td>\n",
       "      <td>-0.440807</td>\n",
       "      <td>-0.458683</td>\n",
       "      <td>1.350633</td>\n",
       "    </tr>\n",
       "    <tr>\n",
       "      <th>3</th>\n",
       "      <td>-0.963527</td>\n",
       "      <td>-1.215691</td>\n",
       "      <td>-1.025217</td>\n",
       "      <td>-0.716855</td>\n",
       "      <td>-0.904442</td>\n",
       "      <td>-0.053458</td>\n",
       "      <td>-0.974973</td>\n",
       "      <td>1.646648</td>\n",
       "      <td>-0.727923</td>\n",
       "      <td>0.461600</td>\n",
       "      <td>...</td>\n",
       "      <td>-0.819554</td>\n",
       "      <td>1.758792</td>\n",
       "      <td>-0.068263</td>\n",
       "      <td>-0.005316</td>\n",
       "      <td>-0.309922</td>\n",
       "      <td>-0.352282</td>\n",
       "      <td>-0.354009</td>\n",
       "      <td>-0.440807</td>\n",
       "      <td>2.180153</td>\n",
       "      <td>-0.740394</td>\n",
       "    </tr>\n",
       "    <tr>\n",
       "      <th>4</th>\n",
       "      <td>0.889668</td>\n",
       "      <td>-0.893373</td>\n",
       "      <td>-1.025217</td>\n",
       "      <td>-0.716855</td>\n",
       "      <td>-0.904442</td>\n",
       "      <td>-0.053458</td>\n",
       "      <td>-0.974973</td>\n",
       "      <td>1.646648</td>\n",
       "      <td>-0.727923</td>\n",
       "      <td>0.461600</td>\n",
       "      <td>...</td>\n",
       "      <td>1.220175</td>\n",
       "      <td>-0.568572</td>\n",
       "      <td>-0.068263</td>\n",
       "      <td>-0.005316</td>\n",
       "      <td>-0.309922</td>\n",
       "      <td>-0.352282</td>\n",
       "      <td>-0.354009</td>\n",
       "      <td>2.268564</td>\n",
       "      <td>-0.458683</td>\n",
       "      <td>-0.740394</td>\n",
       "    </tr>\n",
       "    <tr>\n",
       "      <th>5</th>\n",
       "      <td>0.889668</td>\n",
       "      <td>-0.893373</td>\n",
       "      <td>-1.025217</td>\n",
       "      <td>-0.716855</td>\n",
       "      <td>-0.904442</td>\n",
       "      <td>-0.053458</td>\n",
       "      <td>-0.974973</td>\n",
       "      <td>1.646648</td>\n",
       "      <td>-0.727923</td>\n",
       "      <td>0.461600</td>\n",
       "      <td>...</td>\n",
       "      <td>-0.819554</td>\n",
       "      <td>1.758792</td>\n",
       "      <td>-0.068263</td>\n",
       "      <td>-0.005316</td>\n",
       "      <td>-0.309922</td>\n",
       "      <td>-0.352282</td>\n",
       "      <td>-0.354009</td>\n",
       "      <td>2.268564</td>\n",
       "      <td>-0.458683</td>\n",
       "      <td>-0.740394</td>\n",
       "    </tr>\n",
       "    <tr>\n",
       "      <th>...</th>\n",
       "      <td>...</td>\n",
       "      <td>...</td>\n",
       "      <td>...</td>\n",
       "      <td>...</td>\n",
       "      <td>...</td>\n",
       "      <td>...</td>\n",
       "      <td>...</td>\n",
       "      <td>...</td>\n",
       "      <td>...</td>\n",
       "      <td>...</td>\n",
       "      <td>...</td>\n",
       "      <td>...</td>\n",
       "      <td>...</td>\n",
       "      <td>...</td>\n",
       "      <td>...</td>\n",
       "      <td>...</td>\n",
       "      <td>...</td>\n",
       "      <td>...</td>\n",
       "      <td>...</td>\n",
       "      <td>...</td>\n",
       "      <td>...</td>\n",
       "    </tr>\n",
       "    <tr>\n",
       "      <th>318434</th>\n",
       "      <td>-1.426825</td>\n",
       "      <td>0.395897</td>\n",
       "      <td>-0.169177</td>\n",
       "      <td>1.574123</td>\n",
       "      <td>0.546379</td>\n",
       "      <td>3.342582</td>\n",
       "      <td>1.212557</td>\n",
       "      <td>0.138090</td>\n",
       "      <td>-0.161049</td>\n",
       "      <td>-0.067622</td>\n",
       "      <td>...</td>\n",
       "      <td>-0.819554</td>\n",
       "      <td>-0.568572</td>\n",
       "      <td>-0.068263</td>\n",
       "      <td>-0.005316</td>\n",
       "      <td>-0.309922</td>\n",
       "      <td>-0.352282</td>\n",
       "      <td>-0.354009</td>\n",
       "      <td>-0.440807</td>\n",
       "      <td>-0.458683</td>\n",
       "      <td>1.350633</td>\n",
       "    </tr>\n",
       "    <tr>\n",
       "      <th>318435</th>\n",
       "      <td>0.658018</td>\n",
       "      <td>-1.215691</td>\n",
       "      <td>-1.025217</td>\n",
       "      <td>1.574123</td>\n",
       "      <td>-1.722559</td>\n",
       "      <td>0.158795</td>\n",
       "      <td>0.118792</td>\n",
       "      <td>0.138090</td>\n",
       "      <td>0.405826</td>\n",
       "      <td>2.049268</td>\n",
       "      <td>...</td>\n",
       "      <td>-0.819554</td>\n",
       "      <td>-0.568572</td>\n",
       "      <td>-0.068263</td>\n",
       "      <td>-0.005316</td>\n",
       "      <td>-0.309922</td>\n",
       "      <td>-0.352282</td>\n",
       "      <td>-0.354009</td>\n",
       "      <td>-0.440807</td>\n",
       "      <td>2.180153</td>\n",
       "      <td>-0.740394</td>\n",
       "    </tr>\n",
       "    <tr>\n",
       "      <th>318436</th>\n",
       "      <td>-1.311001</td>\n",
       "      <td>-0.248738</td>\n",
       "      <td>-0.169177</td>\n",
       "      <td>1.574123</td>\n",
       "      <td>1.566288</td>\n",
       "      <td>0.583300</td>\n",
       "      <td>1.212557</td>\n",
       "      <td>-1.370469</td>\n",
       "      <td>-0.161049</td>\n",
       "      <td>1.520045</td>\n",
       "      <td>...</td>\n",
       "      <td>1.220175</td>\n",
       "      <td>-0.568572</td>\n",
       "      <td>-0.068263</td>\n",
       "      <td>-0.005316</td>\n",
       "      <td>-0.309922</td>\n",
       "      <td>-0.352282</td>\n",
       "      <td>-0.354009</td>\n",
       "      <td>-0.440807</td>\n",
       "      <td>-0.458683</td>\n",
       "      <td>1.350633</td>\n",
       "    </tr>\n",
       "    <tr>\n",
       "      <th>318437</th>\n",
       "      <td>-0.847702</td>\n",
       "      <td>-0.893373</td>\n",
       "      <td>-0.169177</td>\n",
       "      <td>0.428634</td>\n",
       "      <td>0.667022</td>\n",
       "      <td>0.158795</td>\n",
       "      <td>-0.974973</td>\n",
       "      <td>-1.370469</td>\n",
       "      <td>0.972701</td>\n",
       "      <td>-1.655290</td>\n",
       "      <td>...</td>\n",
       "      <td>-0.819554</td>\n",
       "      <td>-0.568572</td>\n",
       "      <td>-0.068263</td>\n",
       "      <td>-0.005316</td>\n",
       "      <td>-0.309922</td>\n",
       "      <td>-0.352282</td>\n",
       "      <td>-0.354009</td>\n",
       "      <td>2.268564</td>\n",
       "      <td>-0.458683</td>\n",
       "      <td>-0.740394</td>\n",
       "    </tr>\n",
       "    <tr>\n",
       "      <th>318438</th>\n",
       "      <td>0.078895</td>\n",
       "      <td>0.718215</td>\n",
       "      <td>1.542903</td>\n",
       "      <td>-0.716855</td>\n",
       "      <td>-1.161314</td>\n",
       "      <td>0.158795</td>\n",
       "      <td>1.212557</td>\n",
       "      <td>-1.370469</td>\n",
       "      <td>-0.727923</td>\n",
       "      <td>-1.655290</td>\n",
       "      <td>...</td>\n",
       "      <td>-0.819554</td>\n",
       "      <td>-0.568572</td>\n",
       "      <td>-0.068263</td>\n",
       "      <td>-0.005316</td>\n",
       "      <td>-0.309922</td>\n",
       "      <td>-0.352282</td>\n",
       "      <td>2.824791</td>\n",
       "      <td>-0.440807</td>\n",
       "      <td>-0.458683</td>\n",
       "      <td>-0.740394</td>\n",
       "    </tr>\n",
       "  </tbody>\n",
       "</table>\n",
       "<p>318438 rows × 38 columns</p>\n",
       "</div>"
      ],
      "text/plain": [
       "         Hospital_code  City_Code_Hospital  Available Extra Rooms in Hospital  \\\n",
       "case_id                                                                         \n",
       "1            -1.195176           -0.571055                          -0.169177   \n",
       "2            -1.890124            0.073580                          -1.025217   \n",
       "3            -0.963527           -1.215691                          -1.025217   \n",
       "4             0.889668           -0.893373                          -1.025217   \n",
       "5             0.889668           -0.893373                          -1.025217   \n",
       "...                ...                 ...                                ...   \n",
       "318434       -1.426825            0.395897                          -0.169177   \n",
       "318435        0.658018           -1.215691                          -1.025217   \n",
       "318436       -1.311001           -0.248738                          -0.169177   \n",
       "318437       -0.847702           -0.893373                          -0.169177   \n",
       "318438        0.078895            0.718215                           1.542903   \n",
       "\n",
       "         Bed Grade  patientid  City_Code_Patient  Type of Admission  \\\n",
       "case_id                                                               \n",
       "1        -0.716855  -0.904442          -0.053458           1.212557   \n",
       "2        -0.716855  -0.904442          -0.053458          -0.974973   \n",
       "3        -0.716855  -0.904442          -0.053458          -0.974973   \n",
       "4        -0.716855  -0.904442          -0.053458          -0.974973   \n",
       "5        -0.716855  -0.904442          -0.053458          -0.974973   \n",
       "...            ...        ...                ...                ...   \n",
       "318434    1.574123   0.546379           3.342582           1.212557   \n",
       "318435    1.574123  -1.722559           0.158795           0.118792   \n",
       "318436    1.574123   1.566288           0.583300           1.212557   \n",
       "318437    0.428634   0.667022           0.158795          -0.974973   \n",
       "318438   -0.716855  -1.161314           0.158795           1.212557   \n",
       "\n",
       "         Severity of Illness  Visitors with Patient       Age  ...         R  \\\n",
       "case_id                                                        ...             \n",
       "1                   1.646648              -0.727923  0.461600  ...  1.220175   \n",
       "2                   1.646648              -0.727923  0.461600  ... -0.819554   \n",
       "3                   1.646648              -0.727923  0.461600  ... -0.819554   \n",
       "4                   1.646648              -0.727923  0.461600  ...  1.220175   \n",
       "5                   1.646648              -0.727923  0.461600  ... -0.819554   \n",
       "...                      ...                    ...       ...  ...       ...   \n",
       "318434              0.138090              -0.161049 -0.067622  ... -0.819554   \n",
       "318435              0.138090               0.405826  2.049268  ... -0.819554   \n",
       "318436             -1.370469              -0.161049  1.520045  ...  1.220175   \n",
       "318437             -1.370469               0.972701 -1.655290  ... -0.819554   \n",
       "318438             -1.370469              -0.727923 -1.655290  ... -0.819554   \n",
       "\n",
       "                S         T         U         A         B         C         D  \\\n",
       "case_id                                                                         \n",
       "1       -0.568572 -0.068263 -0.005316 -0.309922 -0.352282 -0.354009 -0.440807   \n",
       "2        1.758792 -0.068263 -0.005316 -0.309922 -0.352282 -0.354009 -0.440807   \n",
       "3        1.758792 -0.068263 -0.005316 -0.309922 -0.352282 -0.354009 -0.440807   \n",
       "4       -0.568572 -0.068263 -0.005316 -0.309922 -0.352282 -0.354009  2.268564   \n",
       "5        1.758792 -0.068263 -0.005316 -0.309922 -0.352282 -0.354009  2.268564   \n",
       "...           ...       ...       ...       ...       ...       ...       ...   \n",
       "318434  -0.568572 -0.068263 -0.005316 -0.309922 -0.352282 -0.354009 -0.440807   \n",
       "318435  -0.568572 -0.068263 -0.005316 -0.309922 -0.352282 -0.354009 -0.440807   \n",
       "318436  -0.568572 -0.068263 -0.005316 -0.309922 -0.352282 -0.354009 -0.440807   \n",
       "318437  -0.568572 -0.068263 -0.005316 -0.309922 -0.352282 -0.354009  2.268564   \n",
       "318438  -0.568572 -0.068263 -0.005316 -0.309922 -0.352282  2.824791 -0.440807   \n",
       "\n",
       "                E         F  \n",
       "case_id                      \n",
       "1       -0.458683  1.350633  \n",
       "2       -0.458683  1.350633  \n",
       "3        2.180153 -0.740394  \n",
       "4       -0.458683 -0.740394  \n",
       "5       -0.458683 -0.740394  \n",
       "...           ...       ...  \n",
       "318434  -0.458683  1.350633  \n",
       "318435   2.180153 -0.740394  \n",
       "318436  -0.458683  1.350633  \n",
       "318437  -0.458683 -0.740394  \n",
       "318438  -0.458683 -0.740394  \n",
       "\n",
       "[318438 rows x 38 columns]"
      ]
     },
     "execution_count": 28,
     "metadata": {},
     "output_type": "execute_result"
    }
   ],
   "source": [
    "X"
   ]
  },
  {
   "cell_type": "markdown",
   "id": "db3dd51b",
   "metadata": {
    "papermill": {
     "duration": 0.01203,
     "end_time": "2022-05-29T15:26:19.624150",
     "exception": false,
     "start_time": "2022-05-29T15:26:19.612120",
     "status": "completed"
    },
    "tags": []
   },
   "source": [
    "### Training"
   ]
  },
  {
   "cell_type": "markdown",
   "id": "1d5976c7",
   "metadata": {
    "papermill": {
     "duration": 0.012528,
     "end_time": "2022-05-29T15:26:19.649206",
     "exception": false,
     "start_time": "2022-05-29T15:26:19.636678",
     "status": "completed"
    },
    "tags": []
   },
   "source": [
    "#### Splitting the data set into training and test data"
   ]
  },
  {
   "cell_type": "code",
   "execution_count": 29,
   "id": "186da743",
   "metadata": {
    "execution": {
     "iopub.execute_input": "2022-05-29T15:26:19.676373Z",
     "iopub.status.busy": "2022-05-29T15:26:19.675990Z",
     "iopub.status.idle": "2022-05-29T15:26:19.794325Z",
     "shell.execute_reply": "2022-05-29T15:26:19.793401Z"
    },
    "papermill": {
     "duration": 0.134563,
     "end_time": "2022-05-29T15:26:19.796753",
     "exception": false,
     "start_time": "2022-05-29T15:26:19.662190",
     "status": "completed"
    },
    "tags": []
   },
   "outputs": [],
   "source": [
    "X_train, X_test, y_train, y_test = train_test_split(X, y, train_size=0.7)"
   ]
  },
  {
   "cell_type": "markdown",
   "id": "f9b1b086",
   "metadata": {
    "papermill": {
     "duration": 0.019566,
     "end_time": "2022-05-29T15:26:19.836358",
     "exception": false,
     "start_time": "2022-05-29T15:26:19.816792",
     "status": "completed"
    },
    "tags": []
   },
   "source": [
    "#### Building the neural network"
   ]
  },
  {
   "cell_type": "code",
   "execution_count": 30,
   "id": "296bc12b",
   "metadata": {
    "execution": {
     "iopub.execute_input": "2022-05-29T15:26:19.878238Z",
     "iopub.status.busy": "2022-05-29T15:26:19.877257Z",
     "iopub.status.idle": "2022-05-29T15:26:21.418834Z",
     "shell.execute_reply": "2022-05-29T15:26:21.417669Z"
    },
    "papermill": {
     "duration": 1.565014,
     "end_time": "2022-05-29T15:26:21.421217",
     "exception": false,
     "start_time": "2022-05-29T15:26:19.856203",
     "status": "completed"
    },
    "tags": []
   },
   "outputs": [
    {
     "name": "stderr",
     "output_type": "stream",
     "text": [
      "2022-05-29 15:26:21.351501: I tensorflow/core/common_runtime/process_util.cc:146] Creating new thread pool with default inter op setting: 2. Tune using inter_op_parallelism_threads for best performance.\n"
     ]
    }
   ],
   "source": [
    "inputs = tf.keras.Input(shape=(38,))\n",
    "x = tf.keras.layers.Dense(16, activation='relu')(inputs)\n",
    "x = tf.keras.layers.Dense(16, activation='relu')(x)\n",
    "outputs = tf.keras.layers.Dense(11, activation='softmax')(x)\n",
    "\n",
    "nn_model = tf.keras.Model(inputs=inputs, outputs=outputs)"
   ]
  },
  {
   "cell_type": "code",
   "execution_count": 31,
   "id": "3194ea04",
   "metadata": {
    "execution": {
     "iopub.execute_input": "2022-05-29T15:26:21.464600Z",
     "iopub.status.busy": "2022-05-29T15:26:21.464204Z",
     "iopub.status.idle": "2022-05-29T15:26:21.477790Z",
     "shell.execute_reply": "2022-05-29T15:26:21.476661Z"
    },
    "papermill": {
     "duration": 0.038054,
     "end_time": "2022-05-29T15:26:21.480239",
     "exception": false,
     "start_time": "2022-05-29T15:26:21.442185",
     "status": "completed"
    },
    "tags": []
   },
   "outputs": [],
   "source": [
    "nn_model.compile(\n",
    "    optimizer='adam',\n",
    "    loss='sparse_categorical_crossentropy',\n",
    "    metrics=['accuracy']\n",
    ")"
   ]
  },
  {
   "cell_type": "code",
   "execution_count": 32,
   "id": "6df7f10a",
   "metadata": {
    "execution": {
     "iopub.execute_input": "2022-05-29T15:26:21.523650Z",
     "iopub.status.busy": "2022-05-29T15:26:21.522688Z",
     "iopub.status.idle": "2022-05-29T15:29:04.959848Z",
     "shell.execute_reply": "2022-05-29T15:29:04.958528Z"
    },
    "papermill": {
     "duration": 163.461647,
     "end_time": "2022-05-29T15:29:04.962399",
     "exception": false,
     "start_time": "2022-05-29T15:26:21.500752",
     "status": "completed"
    },
    "tags": []
   },
   "outputs": [
    {
     "name": "stderr",
     "output_type": "stream",
     "text": [
      "2022-05-29 15:26:21.656511: I tensorflow/compiler/mlir/mlir_graph_optimization_pass.cc:185] None of the MLIR Optimization Passes are enabled (registered 2)\n"
     ]
    },
    {
     "name": "stdout",
     "output_type": "stream",
     "text": [
      "Epoch 1/15\n",
      "4877/4877 [==============================] - 12s 2ms/step - loss: 1.6625 - accuracy: 0.3698 - val_loss: 1.5948 - val_accuracy: 0.3955\n",
      "Epoch 2/15\n",
      "4877/4877 [==============================] - 11s 2ms/step - loss: 1.5827 - accuracy: 0.3973 - val_loss: 1.5726 - val_accuracy: 0.3992\n",
      "Epoch 3/15\n",
      "4877/4877 [==============================] - 11s 2ms/step - loss: 1.5656 - accuracy: 0.4018 - val_loss: 1.5634 - val_accuracy: 0.4024\n",
      "Epoch 4/15\n",
      "4877/4877 [==============================] - 11s 2ms/step - loss: 1.5559 - accuracy: 0.4035 - val_loss: 1.5520 - val_accuracy: 0.4045\n",
      "Epoch 5/15\n",
      "4877/4877 [==============================] - 11s 2ms/step - loss: 1.5505 - accuracy: 0.4052 - val_loss: 1.5506 - val_accuracy: 0.4015\n",
      "Epoch 6/15\n",
      "4877/4877 [==============================] - 11s 2ms/step - loss: 1.5472 - accuracy: 0.4052 - val_loss: 1.5469 - val_accuracy: 0.4050\n",
      "Epoch 7/15\n",
      "4877/4877 [==============================] - 11s 2ms/step - loss: 1.5448 - accuracy: 0.4068 - val_loss: 1.5458 - val_accuracy: 0.4059\n",
      "Epoch 8/15\n",
      "4877/4877 [==============================] - 11s 2ms/step - loss: 1.5434 - accuracy: 0.4067 - val_loss: 1.5425 - val_accuracy: 0.4079\n",
      "Epoch 9/15\n",
      "4877/4877 [==============================] - 11s 2ms/step - loss: 1.5417 - accuracy: 0.4072 - val_loss: 1.5428 - val_accuracy: 0.4089\n",
      "Epoch 10/15\n",
      "4877/4877 [==============================] - 11s 2ms/step - loss: 1.5405 - accuracy: 0.4074 - val_loss: 1.5418 - val_accuracy: 0.4047\n",
      "Epoch 11/15\n",
      "4877/4877 [==============================] - 11s 2ms/step - loss: 1.5392 - accuracy: 0.4075 - val_loss: 1.5379 - val_accuracy: 0.4100\n",
      "Epoch 12/15\n",
      "4877/4877 [==============================] - 11s 2ms/step - loss: 1.5383 - accuracy: 0.4073 - val_loss: 1.5388 - val_accuracy: 0.4101\n",
      "Epoch 13/15\n",
      "4877/4877 [==============================] - 11s 2ms/step - loss: 1.5377 - accuracy: 0.4086 - val_loss: 1.5395 - val_accuracy: 0.4085\n",
      "Epoch 14/15\n",
      "4877/4877 [==============================] - 11s 2ms/step - loss: 1.5369 - accuracy: 0.4081 - val_loss: 1.5378 - val_accuracy: 0.4076\n",
      "Epoch 15/15\n",
      "4877/4877 [==============================] - 11s 2ms/step - loss: 1.5361 - accuracy: 0.4086 - val_loss: 1.5369 - val_accuracy: 0.4060\n"
     ]
    }
   ],
   "source": [
    "batch_size = 32\n",
    "epochs = 15\n",
    "\n",
    "history = nn_model.fit(\n",
    "    X_train,\n",
    "    y_train,\n",
    "    validation_split = 0.3,\n",
    "    batch_size = batch_size,\n",
    "    epochs = epochs\n",
    ")"
   ]
  },
  {
   "cell_type": "code",
   "execution_count": 33,
   "id": "360ff864",
   "metadata": {
    "execution": {
     "iopub.execute_input": "2022-05-29T15:29:05.471359Z",
     "iopub.status.busy": "2022-05-29T15:29:05.470790Z",
     "iopub.status.idle": "2022-05-29T15:29:08.686677Z",
     "shell.execute_reply": "2022-05-29T15:29:08.685456Z"
    },
    "papermill": {
     "duration": 3.472893,
     "end_time": "2022-05-29T15:29:08.689291",
     "exception": false,
     "start_time": "2022-05-29T15:29:05.216398",
     "status": "completed"
    },
    "tags": []
   },
   "outputs": [
    {
     "name": "stdout",
     "output_type": "stream",
     "text": [
      "Neural Network Accuracy:0.4065234661102295\n"
     ]
    }
   ],
   "source": [
    "print(f\"Neural Network Accuracy:{nn_model.evaluate(X_test, y_test, verbose=0)[1]}\")"
   ]
  },
  {
   "cell_type": "code",
   "execution_count": 34,
   "id": "cc4cbadb",
   "metadata": {
    "execution": {
     "iopub.execute_input": "2022-05-29T15:29:09.299589Z",
     "iopub.status.busy": "2022-05-29T15:29:09.299183Z",
     "iopub.status.idle": "2022-05-29T15:29:09.520472Z",
     "shell.execute_reply": "2022-05-29T15:29:09.519467Z"
    },
    "papermill": {
     "duration": 0.582545,
     "end_time": "2022-05-29T15:29:09.522713",
     "exception": false,
     "start_time": "2022-05-29T15:29:08.940168",
     "status": "completed"
    },
    "tags": []
   },
   "outputs": [
    {
     "data": {
      "image/png": "[encoded data removed]",
      "text/plain": [
       "<Figure size 1008x720 with 1 Axes>"
      ]
     },
     "metadata": {
      "needs_background": "light"
     },
     "output_type": "display_data"
    }
   ],
   "source": [
    "plt.figure(figsize=(14, 10))\n",
    "\n",
    "plt.plot(range(epochs), history.history['loss'], label='Training Loss')\n",
    "plt.plot(range(epochs), history.history['val_loss'], label='Validation Loss')\n",
    "\n",
    "plt.xlabel('Epochs')\n",
    "plt.ylabel('Loss')\n",
    "plt.legend(loc='upper right')\n",
    "\n",
    "plt.show()"
   ]
  }
 ],
 "metadata": {
  "kernelspec": {
   "display_name": "Python 3",
   "language": "python",
   "name": "python3"
  },
  "language_info": {
   "codemirror_mode": {
    "name": "ipython",
    "version": 3
   },
   "file_extension": ".py",
   "mimetype": "text/x-python",
   "name": "python",
   "nbconvert_exporter": "python",
   "pygments_lexer": "ipython3",
   "version": "3.7.12"
  },
  "papermill": {
   "default_parameters": {},
   "duration": 197.085304,
   "end_time": "2022-05-29T15:29:13.003862",
   "environment_variables": {},
   "exception": null,
   "input_path": "__notebook__.ipynb",
   "output_path": "__notebook__.ipynb",
   "parameters": {},
   "start_time": "2022-05-29T15:25:55.918558",
   "version": "2.3.4"
  }
 },
 "nbformat": 4,
 "nbformat_minor": 5
}
